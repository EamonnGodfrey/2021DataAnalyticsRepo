{
 "cells": [
  {
   "cell_type": "code",
   "execution_count": 10,
   "source": [
    "floor_types = ['Parking', 'Shops', 'Food Court', 'Offices']\r\n",
    "floor_numbers = range(-1,3)\r\n",
    "zop = zip(floor_types, floor_numbers)\r\n",
    "zipped = list(zop)\r\n",
    "print(zipped)"
   ],
   "outputs": [
    {
     "output_type": "stream",
     "name": "stdout",
     "text": [
      "[('Parking', -1), ('Shops', 0), ('Food Court', 1), ('Offices', 2)]\n"
     ]
    }
   ],
   "metadata": {}
  },
  {
   "cell_type": "code",
   "execution_count": 9,
   "source": [
    "list1 = [1, 2, 3]\r\n",
    "list2 = [4, 5, 6]\r\n",
    "zop = zip(list1, list2)\r\n",
    "print(zop)"
   ],
   "outputs": [
    {
     "output_type": "stream",
     "name": "stdout",
     "text": [
      "<zip object at 0x000001FE81959B40>\n"
     ]
    }
   ],
   "metadata": {}
  },
  {
   "cell_type": "code",
   "execution_count": 17,
   "source": [
    "# Code cell 15\r\n",
    "floor_types = ['Parking', 'Shops', 'Food Court', 'Offices']\r\n",
    "floors_numbers = range(-1,3)\r\n",
    "temp = zip(floors_numbers, floor_types)\r\n",
    "elevator_dict = dict(temp)\r\n",
    "print(elevator_dict)"
   ],
   "outputs": [
    {
     "output_type": "stream",
     "name": "stdout",
     "text": [
      "{-1: 'Parking', 0: 'Shops', 1: 'Food Court', 2: 'Offices'}\n"
     ]
    }
   ],
   "metadata": {}
  },
  {
   "cell_type": "code",
   "execution_count": 18,
   "source": [
    "elevator_dict[-1]"
   ],
   "outputs": [
    {
     "output_type": "execute_result",
     "data": {
      "text/plain": [
       "'Parking'"
      ]
     },
     "metadata": {},
     "execution_count": 18
    }
   ],
   "metadata": {}
  }
 ],
 "metadata": {
  "orig_nbformat": 4,
  "language_info": {
   "name": "python",
   "version": "3.9.5",
   "mimetype": "text/x-python",
   "codemirror_mode": {
    "name": "ipython",
    "version": 3
   },
   "pygments_lexer": "ipython3",
   "nbconvert_exporter": "python",
   "file_extension": ".py"
  },
  "kernelspec": {
   "name": "python3",
   "display_name": "Python 3.9.5 64-bit"
  },
  "interpreter": {
   "hash": "9cc72da9eeb5f2fc258bd3a117dab02eaebf1303839bc6ccf7032b583d11768e"
  }
 },
 "nbformat": 4,
 "nbformat_minor": 2
}