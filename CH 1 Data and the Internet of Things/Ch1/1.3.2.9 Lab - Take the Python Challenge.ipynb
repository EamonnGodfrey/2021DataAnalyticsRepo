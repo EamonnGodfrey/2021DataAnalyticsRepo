{
 "cells": [
  {
   "cell_type": "markdown",
   "source": [
    "![Title](Images/cisco.png)"
   ],
   "metadata": {}
  },
  {
   "cell_type": "markdown",
   "source": [
    "# Lab - Take the Python Challenge \n",
    "\n",
    "\n",
    "This is an optional exercise to test your understanding of Python basics. However, we strongly suggest the student to complete these exercises to prepare yourself for the rest of this course. If you don't know how to solve them, look into the Python Lectures available in the Course Materials/Tutorials and Demos folder."
   ],
   "metadata": {}
  },
  {
   "cell_type": "markdown",
   "source": [
    "#### Answer the questions or complete the tasks outlined below, use the specific method described if applicable."
   ],
   "metadata": {}
  },
  {
   "cell_type": "markdown",
   "source": [
    "#### 1) What is 3 to the power of 5?"
   ],
   "metadata": {}
  },
  {
   "cell_type": "code",
   "execution_count": 1,
   "source": [
    "# Code cell 1\r\n",
    "3**5"
   ],
   "outputs": [
    {
     "output_type": "execute_result",
     "data": {
      "text/plain": [
       "243"
      ]
     },
     "metadata": {},
     "execution_count": 1
    }
   ],
   "metadata": {
    "collapsed": false
   }
  },
  {
   "cell_type": "markdown",
   "source": [
    "#### 2) Create a variable, *`s`*, containing the string \"This course is amazing!\". Using the variable, split the string into a list."
   ],
   "metadata": {}
  },
  {
   "cell_type": "code",
   "execution_count": 2,
   "source": [
    "# Code cell 2\r\n",
    "s = \"This course is amazing!\"\r\n",
    "s.split(\" \")\r\n"
   ],
   "outputs": [
    {
     "output_type": "execute_result",
     "data": {
      "text/plain": [
       "['This', 'course', 'is', 'amazing!']"
      ]
     },
     "metadata": {},
     "execution_count": 2
    }
   ],
   "metadata": {
    "collapsed": false
   }
  },
  {
   "cell_type": "markdown",
   "source": [
    "#### 3) Given the variables height and mountain, use .format() to print the following string:\n",
    "<center>`The height of Mt. Everest is 8848 meters.`</center>"
   ],
   "metadata": {}
  },
  {
   "cell_type": "code",
   "execution_count": 3,
   "source": [
    "# Code cell 3\r\n",
    "mountain = \"Mt. Everest\"\r\n",
    "height = 8848\r\n",
    "print(\"The height of {0} is {1} meters\".format(mountain, height))"
   ],
   "outputs": [
    {
     "output_type": "stream",
     "name": "stdout",
     "text": [
      "The height of Mt. Everest is 8848 meters\n"
     ]
    }
   ],
   "metadata": {
    "collapsed": false
   }
  },
  {
   "cell_type": "markdown",
   "source": [
    "#### 4) Given the following nested list, use indexing to grab the word `\"this\"`."
   ],
   "metadata": {}
  },
  {
   "cell_type": "code",
   "execution_count": 4,
   "source": [
    "# Code cell 4\r\n",
    "lst = ['a','b',[4,10,11],['c',[1,66,['this']],2,111],'e',7]\r\n",
    "#lst[?][?][?][?]\r\n",
    "lst[3][1][2]"
   ],
   "outputs": [
    {
     "output_type": "execute_result",
     "data": {
      "text/plain": [
       "['this']"
      ]
     },
     "metadata": {},
     "execution_count": 4
    }
   ],
   "metadata": {
    "collapsed": false
   }
  },
  {
   "cell_type": "markdown",
   "source": [
    "#### 5) Given the following nested dictionary, grab the word \"that\". This exercise is a little more difficult."
   ],
   "metadata": {}
  },
  {
   "cell_type": "code",
   "execution_count": 5,
   "source": [
    "# Code cell 5\r\n",
    "d = {'k1':['val1','val2','val3',{'we':['need','to','go',{'deeper':[1,2,3,'that']}]}]}\r\n",
    "#d[?][?][?][?][?][?]\r\n",
    "d['k1'][3]['we'][3]['deeper'][3]"
   ],
   "outputs": [
    {
     "output_type": "execute_result",
     "data": {
      "text/plain": [
       "'that'"
      ]
     },
     "metadata": {},
     "execution_count": 5
    }
   ],
   "metadata": {
    "collapsed": false
   }
  },
  {
   "cell_type": "markdown",
   "source": [
    "#### 6) What is the main difference between a tuple and a list? "
   ],
   "metadata": {}
  },
  {
   "cell_type": "markdown",
   "source": [
    "The main difference between a tuple and a list is that a list will allow duplicate values whereas a tuple will not."
   ],
   "metadata": {
    "collapsed": true
   }
  },
  {
   "cell_type": "markdown",
   "source": [
    "#### 7) Create a function, GetDomain(), that grabs the email website domain from a string in the form:  `user@domain.com`.\n",
    "So for example, passing \"user@domain.com\" would return: domain.com"
   ],
   "metadata": {}
  },
  {
   "cell_type": "code",
   "execution_count": 6,
   "source": [
    "# Code cell 6\r\n",
    "#def GetDomain(?):\r\n",
    "#    return ?.?()[-1]\r\n",
    "def GetDomain(emailIn):\r\n",
    "    tmp = emailIn.split(\"@\")\r\n",
    "    return tmp[len(tmp)-1]\r\n",
    "GetDomain('user@domain.com')\r\n"
   ],
   "outputs": [
    {
     "output_type": "execute_result",
     "data": {
      "text/plain": [
       "'domain.com'"
      ]
     },
     "metadata": {},
     "execution_count": 6
    }
   ],
   "metadata": {
    "collapsed": false
   }
  },
  {
   "cell_type": "markdown",
   "source": [
    "#### 8) Create a basic function, findInternet(), that returns True if the word 'Internet' is contained in the input string. Don't worry about edge cases like punctuation being attached to the word, but account for capitalization. (Hint: Please see https://docs.python.org/2/reference/expressions.html#in)"
   ],
   "metadata": {}
  },
  {
   "cell_type": "code",
   "execution_count": 7,
   "source": [
    "# Code cell 7\r\n",
    "def findInternet(sentenceIn):\r\n",
    "    return 'internet' in sentenceIn.lower().split(\" \")\r\n",
    "findInternet('The Internet Engineering Task Force was created in 1986')"
   ],
   "outputs": [
    {
     "output_type": "execute_result",
     "data": {
      "text/plain": [
       "True"
      ]
     },
     "metadata": {},
     "execution_count": 7
    }
   ],
   "metadata": {
    "collapsed": false
   }
  },
  {
   "cell_type": "markdown",
   "source": [
    "#### 9) Create a function, countIoT(), that counts the number of times the word \"IoT\" occurs in a string.  Ignore edge cases but take into account capitalization."
   ],
   "metadata": {}
  },
  {
   "cell_type": "code",
   "execution_count": 8,
   "source": [
    "# Code cell 8\r\n",
    "def countIoT(st):\r\n",
    "    count = 0\r\n",
    "    stsplit = st.lower().split(\" \")\r\n",
    "    for i in range(len(stsplit)):\r\n",
    "            if(stsplit[i] == \"iot\"):\r\n",
    "                count+=1\r\n",
    "    return count\r\n",
    "    \r\n",
    "countIoT('I don\\'t know how to spell IoT ! Is it IoT or iot ? What does iot mean anyway?')"
   ],
   "outputs": [
    {
     "output_type": "execute_result",
     "data": {
      "text/plain": [
       "4"
      ]
     },
     "metadata": {},
     "execution_count": 8
    }
   ],
   "metadata": {
    "collapsed": false
   }
  },
  {
   "cell_type": "markdown",
   "source": [
    "#### 10) Use lambda expressions and the filter() function to filter out words from a list that do not start with the letter 'd'. For example:\n",
    "\n",
    "    seq = ['data','salt' ,'dairy','cat', 'dog']\n",
    "\n",
    "should be filtered down to:\n",
    "\n",
    "    ['data', 'dairy', 'dog']"
   ],
   "metadata": {}
  },
  {
   "cell_type": "code",
   "execution_count": 9,
   "source": [
    "# Code cell 9\r\n",
    "seq = ['data','salt' ,'dairy','cat', 'dog']\r\n",
    "dList = list(filter(lambda x: x[0] == 'd', seq))\r\n",
    "print(dList)"
   ],
   "outputs": [
    {
     "output_type": "stream",
     "name": "stdout",
     "text": [
      "['data', 'dairy', 'dog']\n"
     ]
    }
   ],
   "metadata": {
    "collapsed": false
   }
  },
  {
   "cell_type": "markdown",
   "source": [
    "#### 11) Use  lambda expressions and the map() function to convert a list of words to upper case. For example:"
   ],
   "metadata": {}
  },
  {
   "cell_type": "markdown",
   "source": [
    "seq = ['data','salt' ,'dairy','cat', 'dog']\n",
    "\n",
    "should become:\n",
    "\n",
    "   ['DATA', 'SALT', 'DAIRY', 'CAT', 'DOG']"
   ],
   "metadata": {}
  },
  {
   "cell_type": "code",
   "execution_count": 10,
   "source": [
    "# Code cell 10\r\n",
    "upperList = list(map(lambda x: x.upper(), seq))\r\n",
    "print(upperList)"
   ],
   "outputs": [
    {
     "output_type": "stream",
     "name": "stdout",
     "text": [
      "['DATA', 'SALT', 'DAIRY', 'CAT', 'DOG']\n"
     ]
    }
   ],
   "metadata": {
    "collapsed": false
   }
  },
  {
   "cell_type": "markdown",
   "source": [
    "#### 12) Imagine a smart thermostat that is connected to the door, so that it can detect, in addition to the temperature, when people enter or leave the house. \n",
    "Write a function that, if the temperature is lower than 20 degrees Celsius, and there are people in the house (encoded as a boolean value to be passed as a parameter to the function), turns on the heating by returning the string \"Heating on\". When the temperature reaches 23 degrees or there are no people in the house, it returns the string \"Heating off\". When none of these conditions are met, the function returns \"Do nothing\"."
   ],
   "metadata": {}
  },
  {
   "cell_type": "code",
   "execution_count": 11,
   "source": [
    "# Code cell 11\r\n",
    "def smart_thermostat(temp, people_in):\r\n",
    "    if(temp < 20 and people_in == True):\r\n",
    "        command = \"Heating on\"\r\n",
    "    elif(temp >= 23 or people_in == False):\r\n",
    "        command = \"Heating off\"\r\n",
    "    else:\r\n",
    "        command = \"Do nothing\"\r\n",
    "    return command"
   ],
   "outputs": [],
   "metadata": {
    "collapsed": true
   }
  },
  {
   "cell_type": "code",
   "execution_count": 12,
   "source": [
    "# Code cell 12\r\n",
    "# Verify smart_thermostat()\r\n",
    "smart_thermostat(19,True)"
   ],
   "outputs": [
    {
     "output_type": "execute_result",
     "data": {
      "text/plain": [
       "'Heating on'"
      ]
     },
     "metadata": {},
     "execution_count": 12
    }
   ],
   "metadata": {
    "collapsed": false
   }
  },
  {
   "cell_type": "code",
   "execution_count": 13,
   "source": [
    "# Code cell 13\r\n",
    "# Verify smart_thermostat()\r\n",
    "smart_thermostat(21,False)"
   ],
   "outputs": [
    {
     "output_type": "execute_result",
     "data": {
      "text/plain": [
       "'Heating off'"
      ]
     },
     "metadata": {},
     "execution_count": 13
    }
   ],
   "metadata": {
    "collapsed": false
   }
  },
  {
   "cell_type": "markdown",
   "source": [
    "#### 13)  The function zip(list1, list2) returns a list of tuples, where the i-th tuple contains the i-th element from each of the argument lists. Use the zip function to create the following list of tuples:"
   ],
   "metadata": {}
  },
  {
   "cell_type": "markdown",
   "source": [
    "`zipped = [('Parking', -1), ('Shops',0), ('Food Court',1), ('Offices',2)]`"
   ],
   "metadata": {}
  },
  {
   "cell_type": "code",
   "execution_count": 14,
   "source": [
    "# Code cell 14\r\n",
    "floor_types = ['Parking', 'Shops', 'Food Court', 'Offices']\r\n",
    "floor_numbers = range(-1,3)\r\n",
    "zop = zip(floor_types, floor_numbers)\r\n",
    "zipped = list(zop)\r\n",
    "print(zipped)"
   ],
   "outputs": [
    {
     "output_type": "stream",
     "name": "stdout",
     "text": [
      "[('Parking', -1), ('Shops', 0), ('Food Court', 1), ('Offices', 2)]\n"
     ]
    }
   ],
   "metadata": {
    "collapsed": false
   }
  },
  {
   "cell_type": "markdown",
   "source": [
    "#### 14) Use the zip function and dict() to create a dictionary, elevator_dict, where the keys are the floor types and the values are the corresponding floor number so that:\n",
    "elevator_dict[-1] = 'Parking'"
   ],
   "metadata": {}
  },
  {
   "cell_type": "code",
   "execution_count": 15,
   "source": [
    "# Code cell 15\r\n",
    "floor_types = ['Parking', 'Shops', 'Food Court', 'Offices']\r\n",
    "floors_numbers = range(-1,3)\r\n",
    "temp = zip(floors_numbers, floor_types)\r\n",
    "elevator_dict = dict(temp)\r\n",
    "print(elevator_dict)"
   ],
   "outputs": [
    {
     "output_type": "stream",
     "name": "stdout",
     "text": [
      "{-1: 'Parking', 0: 'Shops', 1: 'Food Court', 2: 'Offices'}\n"
     ]
    }
   ],
   "metadata": {
    "collapsed": false
   }
  },
  {
   "cell_type": "code",
   "execution_count": 16,
   "source": [
    "# Code cell 16\r\n",
    "# Verify elevator_dict[-1]\r\n",
    "elevator_dict[-1]"
   ],
   "outputs": [
    {
     "output_type": "execute_result",
     "data": {
      "text/plain": [
       "'Parking'"
      ]
     },
     "metadata": {},
     "execution_count": 16
    }
   ],
   "metadata": {
    "collapsed": false
   }
  },
  {
   "cell_type": "markdown",
   "source": [
    "#### 15) Create an `Elevator` class. The constructor accepts the list of strings `floor_types` and the list of integers `floor_numbers`. The class implemets the methods 'ask_which_floor'  and 'go_to_floor'. The output of this methods should look as follows:\r\n",
    "floor_types = ['Parking', 'Shops', 'Food Court', 'Offices']\r\n",
    "floors_numbers = range(-1,4)\r\n",
    "\r\n",
    "el = Elevator(floor_numbers, floor_types)\r\n",
    "\r\n",
    "el.go_to_floor(1)`\r\n",
    "\r\n",
    "`Going to Food Court floor!`\r\n",
    "\r\n",
    "`el.go_to_floor(-2)`\r\n",
    "\r\n",
    "`There is floor number -2 in this building.`\r\n",
    "\r\n",
    "`el.ask_which_floor('Offices')`\r\n",
    "\r\n",
    "`The floor Offices is the number: 2`\r\n",
    "\r\n",
    "`el.ask_which_floor('Swimming Pool')`\r\n",
    "\r\n",
    "`There is no Swimming Pool floor in this building.`"
   ],
   "metadata": {}
  },
  {
   "cell_type": "code",
   "execution_count": 17,
   "source": [
    "# Code cell 17\r\n",
    "class Elevator:\r\n",
    "    \r\n",
    "    def __init__(self, floor_numbers, floor_types):\r\n",
    "        self._floor_numbers = floor_numbers\r\n",
    "        self._floor_types = floor_types\r\n",
    "        self._number_to_type_dict = dict(zip(floor_numbers, floor_types)) \r\n",
    "        self._type_to_number_dict = dict(zip(floor_types, floor_numbers)) \r\n",
    "        \r\n",
    "    def ask_which_floor(self, floor_type):    \r\n",
    "        if floor_type in self._floor_types and floor_type != \"Offices\":\r\n",
    "            print('The {} floor is the number: {}.'.format(floor_type, self._type_to_number_dict[floor_type]))\r\n",
    "        elif floor_type == \"Offices\":\r\n",
    "            print(\"The {} floors span floor number: 2 to 4\")\r\n",
    "        else:\r\n",
    "            print('There is no {} floor in this building.'.format(floor_type))\r\n",
    "    \r\n",
    "    def go_to_floor(self, floor_number):\r\n",
    "        if floor_number in floor_numbers:\r\n",
    "            print(\"Going to {} floor!\".format(self._number_to_type_dict[floor_number]))\r\n",
    "        elif floor_number == 3 or floor_number == 4:\r\n",
    "            print(\"Going to Offices floor!\")\r\n",
    "        else:\r\n",
    "            print(\"There is no floor {} in this building\".format(floor_number))\r\n",
    "    "
   ],
   "outputs": [],
   "metadata": {
    "collapsed": true
   }
  },
  {
   "cell_type": "code",
   "execution_count": 18,
   "source": [
    "# Verify code cell 18\r\n",
    "floor_types = ['Parking', 'Shops', 'Food Court', 'Offices']\r\n",
    "floors_numbers = range(-1,4)\r\n",
    "el = Elevator(floor_numbers, floor_types)\r\n",
    "el.go_to_floor(-1)"
   ],
   "outputs": [
    {
     "output_type": "stream",
     "name": "stdout",
     "text": [
      "Going to Parking floor!\n"
     ]
    }
   ],
   "metadata": {
    "collapsed": false
   }
  },
  {
   "cell_type": "code",
   "execution_count": 19,
   "source": [
    "# Verify code cell 19\r\n",
    "el.go_to_floor(-2)"
   ],
   "outputs": [
    {
     "output_type": "stream",
     "name": "stdout",
     "text": [
      "There is no floor -2 in this building\n"
     ]
    }
   ],
   "metadata": {
    "collapsed": false
   }
  },
  {
   "cell_type": "code",
   "execution_count": 20,
   "source": [
    "# Verify code cell 20\r\n",
    "el.ask_which_floor('Offices')"
   ],
   "outputs": [
    {
     "output_type": "stream",
     "name": "stdout",
     "text": [
      "The {} floors span floor number: 2 to 4\n"
     ]
    }
   ],
   "metadata": {
    "collapsed": false,
    "scrolled": true
   }
  },
  {
   "cell_type": "code",
   "execution_count": 21,
   "source": [
    "# Verify code cell 21\r\n",
    "el.ask_which_floor('Swimming Pool')"
   ],
   "outputs": [
    {
     "output_type": "stream",
     "name": "stdout",
     "text": [
      "There is no Swimming Pool floor in this building.\n"
     ]
    }
   ],
   "metadata": {
    "collapsed": false
   }
  },
  {
   "cell_type": "markdown",
   "source": [
    "# Great job!"
   ],
   "metadata": {}
  },
  {
   "cell_type": "markdown",
   "source": [
    "<font size='0.5'>&copy; 2017 Cisco and/or its affiliates. All rights reserved. This document is Cisco Public.<font>"
   ],
   "metadata": {
    "collapsed": true
   }
  }
 ],
 "metadata": {
  "anaconda-cloud": {},
  "kernelspec": {
   "name": "python3",
   "display_name": "Python 3.9.5 64-bit"
  },
  "language_info": {
   "codemirror_mode": {
    "name": "ipython",
    "version": 3
   },
   "file_extension": ".py",
   "mimetype": "text/x-python",
   "name": "python",
   "nbconvert_exporter": "python",
   "pygments_lexer": "ipython3",
   "version": "3.9.5"
  },
  "interpreter": {
   "hash": "9cc72da9eeb5f2fc258bd3a117dab02eaebf1303839bc6ccf7032b583d11768e"
  }
 },
 "nbformat": 4,
 "nbformat_minor": 1
}