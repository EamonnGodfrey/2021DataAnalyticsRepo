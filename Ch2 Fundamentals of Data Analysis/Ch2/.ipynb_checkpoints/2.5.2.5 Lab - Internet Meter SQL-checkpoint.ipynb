{
 "cells": [
  {
   "cell_type": "markdown",
   "metadata": {},
   "source": [
    "![Title](Images/cisco.png)"
   ]
  },
  {
   "cell_type": "markdown",
   "metadata": {},
   "source": [
    "# Lab - Internet Meter SQL\n"
   ]
  },
  {
   "cell_type": "markdown",
   "metadata": {},
   "source": [
    "### Objectives\n",
    "\n",
    "<b>\n",
    "* Part 1: Set up your Database\n",
    "* Part 2: Connect to the Database \n",
    "* Part 3: Manipulate the Data with Pandas\n",
    "* Part 4: Join Tables with Pandas\n",
    "</b>"
   ]
  },
  {
   "cell_type": "markdown",
   "metadata": {},
   "source": [
    "### Scenario/Background\n",
    "In this lab you will learn how to connect to a relational database, retrieve and manipulate the data through a Jupyter notebook. The data you are provided contain various measurements for ping, upload and download speed made in different Local Authorities around England. At the moment the data is stored in a csv file, but you will create a database and populate it with the measurement. \n",
    "\n",
    "You will:\n",
    "* Work with a relational database\n",
    "* Set up SQLite\n",
    "* Create a new database\n",
    "* Use csvsql to create a new table and retrieve data directly from a big csv file\n",
    "* Connect to a database with the sqlite3 Python library\n",
    "* Perform basic SQL queries through Python\n",
    "* Explore the interaction between Pandas and an SQL database\n",
    "* Merge two tables"
   ]
  },
  {
   "cell_type": "markdown",
   "metadata": {},
   "source": [
    "### Required Resources\n",
    "* 1 PC with Internet access\n",
    "* Raspberry Pi version 2 or higher\n",
    "* Python libraries: sqlite3, pandas, matplotlib\n",
    "* Additional libraries: csvkit\n",
    "* Datafiles: LA_wifi_speed_UK.csv, LA_population.csv\n",
    "\n",
    "### SQL refresh\n",
    "* Very brief introduction to relational databases (temporary): http://searchsqlserver.techtarget.com/definition/relational-database</li>\n",
    "* More videos on relational databases: https://www.youtube.com/watch?v=jyju2P-7hPA&list=PLAwxTw4SYaPm4R6j_wzVOCV9fJaiQDYx4</li>\n",
    "* Introduction to SQL http://www.w3schools.com/sql/sql_intro.asp</li>"
   ]
  },
  {
   "cell_type": "markdown",
   "metadata": {},
   "source": [
    "## Part 1: Set up your Database"
   ]
  },
  {
   "cell_type": "markdown",
   "metadata": {},
   "source": [
    "In this part, you will use SQLite, an in-process library that implements a self-contained, serverless, zero-configuration, transactional SQL database engine to set up the environment."
   ]
  },
  {
   "cell_type": "markdown",
   "metadata": {},
   "source": [
    "#### Step 1: Set up the working environment.\n",
    "We will need `sqlite3` and `csvkit` to complete this notebook. \n",
    "\n",
    "###### a) Install SQLite.\n",
    "In a Jupyter notebook, it is possible to run the same commands that would be used in the terminal. To do so, start the line with an exclamation mark (```!```)."
   ]
  },
  {
   "cell_type": "code",
   "execution_count": 1,
   "metadata": {},
   "outputs": [
    {
     "name": "stdout",
     "output_type": "stream",
     "text": [
      "Reading package lists... Done\n",
      "E: Could not open lock file /var/lib/apt/lists/lock - open (13: Permission denied)\n",
      "E: Unable to lock directory /var/lib/apt/lists/\n",
      "W: Problem unlinking the file /var/cache/apt/pkgcache.bin - RemoveCaches (13: Permission denied)\n",
      "W: Problem unlinking the file /var/cache/apt/srcpkgcache.bin - RemoveCaches (13: Permission denied)\n",
      "E: Could not open lock file /var/lib/dpkg/lock-frontend - open (13: Permission denied)\n",
      "E: Unable to acquire the dpkg frontend lock (/var/lib/dpkg/lock-frontend), are you root?\n"
     ]
    }
   ],
   "source": [
    "# Code Cell 1\n",
    "!apt-get update\n",
    "!apt-get -y install sqlite3"
   ]
  },
  {
   "cell_type": "markdown",
   "metadata": {},
   "source": [
    "After the installation process finishes, create a database:\n",
    "\n",
    "    $sqlite3 <name of your database> \".databases\"\n",
    "\n",
    "*name of the database* is the name you want to give to your database, for example InternetSpeed:\n",
    "\n",
    "    $sqlite3 InternetSpeed.db \".databases\"\n",
    "    \n",
    "This code creates the database in a terminal window. If you are using the terminal, be sure to navigate to the same directory in which this lab resides."
   ]
  },
  {
   "cell_type": "code",
   "execution_count": 2,
   "metadata": {},
   "outputs": [],
   "source": [
    "# Code Cell 2\n",
    "#Create the InternetSpeed database\n",
    "import sqlite3\n",
    "connection = sqlite3.connect('InternetSpeed.db')\n"
   ]
  },
  {
   "cell_type": "markdown",
   "metadata": {},
   "source": [
    "At this point, on your local machine, you have a new, empty database called InternetSpeed.\n",
    "Usually, if you want to create a table, you need to provide a schema specifying the name of the table, the name of the columns, and the type of data that goes in every column (int, str, decimal, etc.).\n",
    "<p>For the purpose of this course, A **synthetic** dataset with wifi speed measurements recorded in 300 locations in the United Kingdom is used for the purpose of this course. The file is structured in a way that each column contains the measurements for a location of one of the three statistics (ping, download, and upload). This means that the table we need has 300\\*3 columns (plus the datetime, and an index column). Writing the schema for such a table by hand is unfeasible. Fortunately, there are ways to overcome this, and one of those is using the **csvkit** package, which contains the function **csvsql** that can be used to create a table and import the data in one command.</p>\n",
    "\n",
    "###### b) Install csvkit.\n",
    "Install csvkit at the terminal:\n",
    "\n",
    "    $pip install csvkit\n",
    "    \n",
    "You can also stay in the notebook environment, as you have done previously, adding the exclamation mark at the beginning of the line.\n",
    "\n",
    "The file used in this part of the lab is called LA_wifi_speed_UK.csv."
   ]
  },
  {
   "cell_type": "code",
   "execution_count": 3,
   "metadata": {},
   "outputs": [
    {
     "name": "stdout",
     "output_type": "stream",
     "text": [
      "Defaulting to user installation because normal site-packages is not writeable\n",
      "Requirement already satisfied: csvkit in /usr/local/lib/python3.8/dist-packages (1.0.6)\n",
      "Requirement already satisfied: agate>=1.6.1 in /usr/local/lib/python3.8/dist-packages (from csvkit) (1.6.3)\n",
      "Requirement already satisfied: six>=1.6.1 in /usr/lib/python3/dist-packages (from csvkit) (1.14.0)\n",
      "Requirement already satisfied: agate-sql>=0.5.3 in /usr/local/lib/python3.8/dist-packages (from csvkit) (0.5.7)\n",
      "Requirement already satisfied: agate-dbf>=0.2.0 in /usr/local/lib/python3.8/dist-packages (from csvkit) (0.2.2)\n",
      "Requirement already satisfied: agate-excel>=0.2.2 in /usr/local/lib/python3.8/dist-packages (from csvkit) (0.2.5)\n",
      "Requirement already satisfied: setuptools in /usr/lib/python3/dist-packages (from csvkit) (45.2.0)\n",
      "Requirement already satisfied: Babel>=2.0 in /usr/local/lib/python3.8/dist-packages (from agate>=1.6.1->csvkit) (2.9.1)\n",
      "Requirement already satisfied: pytimeparse>=1.1.5 in /usr/local/lib/python3.8/dist-packages (from agate>=1.6.1->csvkit) (1.1.8)\n",
      "Requirement already satisfied: isodate>=0.5.4 in /usr/local/lib/python3.8/dist-packages (from agate>=1.6.1->csvkit) (0.6.0)\n",
      "Requirement already satisfied: leather>=0.3.2 in /usr/local/lib/python3.8/dist-packages (from agate>=1.6.1->csvkit) (0.3.3)\n",
      "Requirement already satisfied: parsedatetime!=2.5,!=2.6,>=2.1 in /usr/local/lib/python3.8/dist-packages (from agate>=1.6.1->csvkit) (2.4)\n",
      "Requirement already satisfied: python-slugify>=1.2.1 in /usr/local/lib/python3.8/dist-packages (from agate>=1.6.1->csvkit) (5.0.2)\n",
      "Requirement already satisfied: dbfread>=2.0.5 in /usr/local/lib/python3.8/dist-packages (from agate-dbf>=0.2.0->csvkit) (2.0.7)\n",
      "Requirement already satisfied: openpyxl>=2.3.0 in /usr/local/lib/python3.8/dist-packages (from agate-excel>=0.2.2->csvkit) (3.0.7)\n",
      "Requirement already satisfied: olefile in /usr/lib/python3/dist-packages (from agate-excel>=0.2.2->csvkit) (0.46)\n",
      "Requirement already satisfied: xlrd>=0.9.4 in /usr/local/lib/python3.8/dist-packages (from agate-excel>=0.2.2->csvkit) (2.0.1)\n",
      "Requirement already satisfied: sqlalchemy>=1.0.8 in /usr/local/lib/python3.8/dist-packages (from agate-sql>=0.5.3->csvkit) (1.4.23)\n",
      "Requirement already satisfied: pytz>=2015.7 in /usr/lib/python3/dist-packages (from Babel>=2.0->agate>=1.6.1->csvkit) (2019.3)\n",
      "Requirement already satisfied: et-xmlfile in /usr/local/lib/python3.8/dist-packages (from openpyxl>=2.3.0->agate-excel>=0.2.2->csvkit) (1.1.0)\n",
      "Requirement already satisfied: future in /usr/lib/python3/dist-packages (from parsedatetime!=2.5,!=2.6,>=2.1->agate>=1.6.1->csvkit) (0.18.2)\n",
      "Requirement already satisfied: text-unidecode>=1.3 in /usr/local/lib/python3.8/dist-packages (from python-slugify>=1.2.1->agate>=1.6.1->csvkit) (1.3)\n",
      "Requirement already satisfied: greenlet!=0.4.17 in /usr/local/lib/python3.8/dist-packages (from sqlalchemy>=1.0.8->agate-sql>=0.5.3->csvkit) (1.1.1)\n",
      "\u001b[33mWARNING: You are using pip version 21.2.4; however, version 21.3.1 is available.\n",
      "You should consider upgrading via the '/usr/bin/python3 -m pip install --upgrade pip' command.\u001b[0m\n"
     ]
    }
   ],
   "source": [
    "# Code Cell 3\n",
    "#Installing csvkit\n",
    "!pip install csvkit"
   ]
  },
  {
   "cell_type": "markdown",
   "metadata": {},
   "source": [
    "###### c) Import the data into the database.\n",
    "Use csvsql to create a new table in the database InternetSpeed and retrieve the data contained in the csv file. First, make sure that there is not another database with the same name. If one exists, remove it:\n",
    "    \n",
    "    $test tmp/InternetSpeed.db && rm InternetSpeed.db\n",
    "\n",
    "Use csvkit to populate the database from the csv file:\n",
    "\n",
    "    $csvsql --db sqlite:///InternetSpeed.db --insert ./Data/LA_wifi_speed_UK.csv\n",
    "    \n",
    "You can do this through the terminal or remain in the notebook environment."
   ]
  },
  {
   "cell_type": "code",
   "execution_count": 4,
   "metadata": {},
   "outputs": [],
   "source": [
    "# Code Cell 4\n",
    "# Removing database if already existing\n",
    "!test -e InternetSpeed.db && rm InternetSpeed.db\n",
    "# Importing the LA_wifi_speed_UK.csv file into a sql database file InternetSpeed.db\n",
    "!csvsql --db sqlite:///InternetSpeed.db --insert ./Data/LA_wifi_speed_UK.csv\n",
    "# This will take a while "
   ]
  },
  {
   "cell_type": "markdown",
   "metadata": {},
   "source": [
    "## Part 2: Connect to the Database "
   ]
  },
  {
   "cell_type": "markdown",
   "metadata": {},
   "source": [
    "Python is used to connect to the database and run some queries to see what this data looks like.\n",
    "\n",
    "Import the libraries:\n"
   ]
  },
  {
   "cell_type": "code",
   "execution_count": 5,
   "metadata": {},
   "outputs": [],
   "source": [
    "# Code Cell 5\n",
    "# this is the library to talk to the database\n",
    "# import sqlite3\n",
    "import pandas as pd\n",
    "# this is a library for data visualization\n",
    "from matplotlib import pyplot as plt\n",
    "# this is to say that we want our plots to be part of this page, and not opened in a new window\n",
    "%matplotlib inline"
   ]
  },
  {
   "cell_type": "markdown",
   "metadata": {},
   "source": [
    "You can find sqlite3 for Python documentation here: https://docs.python.org/2/library/sqlite3.html\n",
    "\n",
    "#### Step 1: Connect and execute a query.\n",
    "An open connection and a cursor is needed to communicate with the database. The cursor is a control structure that will enable us to navigate through tables and records. \n",
    "\n",
    "To open a connection, call the method `connect` of the library `sqlite3`. This function takes a string containing the name of the database for which the connection is needed.\n",
    "\n",
    "In this case, the command will be:\n",
    "\n",
    "    sqlite3.connect('InternetSpeed.db')\n",
    "\n",
    "This function returns the connection that will be stored as a variable, called `conn`. To create the cursor, call the method `cursor()` in the following way:\n",
    "\n",
    "    conn.cursor()\n",
    "\n",
    "Save it in a variable called `cur`.\n",
    " \n",
    "\n",
    "###### a) Connect to the database you just created, and then create a cursor pointing to the database.\n"
   ]
  },
  {
   "cell_type": "code",
   "execution_count": 6,
   "metadata": {},
   "outputs": [],
   "source": [
    "# Code Cell 6\n",
    "# what is the name of the database you want to connect to?\n",
    "conn = sqlite3.connect('InternetSpeed.db')\n",
    "cur = conn.cursor()"
   ]
  },
  {
   "cell_type": "markdown",
   "metadata": {},
   "source": [
    "In order to execute a query on the database, we will need to use the cursor we just created and the method `execute()`. This method takes as input a string containing the query we are interested in. We can store the string in a variable, let's call it `query`. Call the method in this way:\n",
    "\n",
    "    cur.execute(query)\n",
    "\n",
    "The table we want to query is not very good for visualization, so we are going to SELECT only the column DateTime, that contains date and time of the measurements. We will LIMIT the number of rows retrieved by the query to 10.\n",
    "\n",
    "###### b) Execute a query. \n",
    "Select the first 10 rows from the DateTime column. \n",
    "\n",
    "Hint: if you want to check the name of the tables in your database, go back to the interactive command line and use this code:\n",
    "    \n",
    "    .tables"
   ]
  },
  {
   "cell_type": "code",
   "execution_count": 7,
   "metadata": {},
   "outputs": [
    {
     "data": {
      "text/plain": [
       "<sqlite3.Cursor at 0x7fe6b52cff10>"
      ]
     },
     "execution_count": 7,
     "metadata": {},
     "output_type": "execute_result"
    }
   ],
   "source": [
    "# Code Cell 7\n",
    "# complete the query with the field you want to select, the table you want to select the field from,\n",
    "# and the field you want your results to be ordered by\n",
    "query = 'SELECT DateTime FROM LA_wifi_speed_UK ORDER BY DateTime ASC LIMIT 10;'\n",
    "# Execute the query\n",
    "cur.execute(query)\n"
   ]
  },
  {
   "cell_type": "markdown",
   "metadata": {},
   "source": [
    "The query result is stored in `cur`. We need to iterate over it in order to visualize the result."
   ]
  },
  {
   "cell_type": "code",
   "execution_count": 8,
   "metadata": {},
   "outputs": [
    {
     "name": "stdout",
     "output_type": "stream",
     "text": [
      "('2016-11-23 00:00:00.000000',)\n",
      "('2016-11-23 00:30:00.000000',)\n",
      "('2016-11-23 01:00:00.000000',)\n",
      "('2016-11-23 01:30:00.000000',)\n",
      "('2016-11-23 02:00:00.000000',)\n",
      "('2016-11-23 02:30:00.000000',)\n",
      "('2016-11-23 03:00:00.000000',)\n",
      "('2016-11-23 03:30:00.000000',)\n",
      "('2016-11-23 04:00:00.000000',)\n",
      "('2016-11-23 04:30:00.000000',)\n"
     ]
    }
   ],
   "source": [
    "# Code Cell 8\n",
    "for row in cur:\n",
    "    print(row) "
   ]
  },
  {
   "cell_type": "markdown",
   "metadata": {},
   "source": [
    "**Note**: We need to sort the table containing the measurement according to the column DateTime. This is because SQL does not have an intrinsic ordering of the rows, and we are dealing with a time series, that without the correct ordering, don't make any sense. Selecting a random sample of rows would remove the temporal component:\n"
   ]
  },
  {
   "cell_type": "code",
   "execution_count": 9,
   "metadata": {},
   "outputs": [
    {
     "name": "stdout",
     "output_type": "stream",
     "text": [
      "('2016-12-08 21:30:00.000000',)\n",
      "('2016-11-25 00:00:00.000000',)\n",
      "('2016-12-02 00:00:00.000000',)\n",
      "('2016-12-05 01:00:00.000000',)\n",
      "('2016-11-30 17:30:00.000000',)\n",
      "('2016-11-24 19:30:00.000000',)\n",
      "('2016-12-01 08:00:00.000000',)\n",
      "('2016-11-28 13:00:00.000000',)\n",
      "('2016-11-25 21:00:00.000000',)\n",
      "('2016-12-09 12:30:00.000000',)\n"
     ]
    }
   ],
   "source": [
    "# Code Cell 9\n",
    "query = 'SELECT DateTime FROM LA_wifi_speed_UK ORDER BY RANDOM() LIMIT 10'\n",
    "cur.execute(query)\n",
    "\n",
    "for row in cur:\n",
    "    print(row) "
   ]
  },
  {
   "cell_type": "markdown",
   "metadata": {},
   "source": [
    "#### Step 2: Focus on a portion of the data.\n",
    "\n",
    "What are the names of the 900+ columns? It is possible to automatically retrieve them and store them in a list. It will come in handy for different things later.\n",
    "\n",
    "First of all, we need to execute a query over all the columns. In this case, it is not important the number of rows the query returns, so we will limit it to 1. "
   ]
  },
  {
   "cell_type": "code",
   "execution_count": 10,
   "metadata": {},
   "outputs": [
    {
     "data": {
      "text/plain": [
       "<sqlite3.Cursor at 0x7fe6b52cff10>"
      ]
     },
     "execution_count": 10,
     "metadata": {},
     "output_type": "execute_result"
    }
   ],
   "source": [
    "# Code Cell 10\n",
    "# we need to have a cursor pointing to a table for this operation\n",
    "query = 'SELECT * FROM LA_wifi_speed_UK LIMIT 1'\n",
    "cur.execute(query)"
   ]
  },
  {
   "cell_type": "markdown",
   "metadata": {},
   "source": [
    "The name of the columns of the table are stored in the field `description` of the cursor."
   ]
  },
  {
   "cell_type": "code",
   "execution_count": 11,
   "metadata": {},
   "outputs": [
    {
     "data": {
      "text/plain": [
       "(('E07000223_p', None, None, None, None, None, None),\n",
       " ('E07000026_p', None, None, None, None, None, None),\n",
       " ('E07000032_p', None, None, None, None, None, None),\n",
       " ('E07000224_p', None, None, None, None, None, None),\n",
       " ('E07000170_p', None, None, None, None, None, None),\n",
       " ('E07000105_p', None, None, None, None, None, None),\n",
       " ('E07000004_p', None, None, None, None, None, None),\n",
       " ('E07000200_p', None, None, None, None, None, None),\n",
       " ('E09000002_p', None, None, None, None, None, None),\n",
       " ('E09000003_p', None, None, None, None, None, None))"
      ]
     },
     "execution_count": 11,
     "metadata": {},
     "output_type": "execute_result"
    }
   ],
   "source": [
    "# Code Cell 11\n",
    "#visualizing the first 10 rows of the field description\n",
    "cur.description[:10]"
   ]
  },
  {
   "cell_type": "markdown",
   "metadata": {},
   "source": [
    "We can loop over the members of this field and put the names of the columns in a list (a handy data structure in this case).\n",
    "In Python, it is possible to generate lists as the output of a for loop. This concept is called list comprehension and it is just another name for a longer for loop. Each element of the output list is the operation you would do inside the for loop, while iterating over a certain set.  "
   ]
  },
  {
   "cell_type": "code",
   "execution_count": 12,
   "metadata": {},
   "outputs": [],
   "source": [
    "# Code Cell 12\n",
    "# loop over the header and store them in a list\n",
    "columns = [member[0] for member in cur.description]\n",
    "\n",
    "# ignore index column\n",
    "columns = columns[1:]"
   ]
  },
  {
   "cell_type": "markdown",
   "metadata": {},
   "source": [
    "The columns contain the measurements of the three speeds for each geographical area. They are in this form: \n",
    "\n",
    "`<area name>_<suffix>`, \n",
    "\n",
    "Suffix is `p` for ping, `u` for upload and `d` for download. \n",
    "\n",
    "We need to get rid of the suffixes, since we are interested in the names of the area, and at the moment each name is repeated three times. We will use the name of the areas to visualize the various measurements and to generate a new table later in the lab.\n",
    "\n",
    "We can replace the final part of the string with an empty character. To do so, we can use the method `replace()` (see string documentation, https://docs.python.org/2/library/string.html).\n",
    "This method takes as input the part of the string to be replaced and the new piece of string to replace. For instance, to remove the characters `e` and `s` from the string `'chestnut'`, use this code:\n",
    "    \n",
    "    'chestnut'.replace('es', '')\n",
    "\n",
    "###### a) Get area names.\n",
    "Use list comprehension to loop over the list containing the names of the columns of the table and remove the suffixes \"_p\", \"_d\", and \"_u\"."
   ]
  },
  {
   "cell_type": "code",
   "execution_count": 13,
   "metadata": {},
   "outputs": [],
   "source": [
    "# Code Cell 13\n",
    "# remove suffix '_p'\n",
    "columns = [c.replace('_p', '') for c in columns]\n",
    "# remove suffix '_d'\n",
    "columns = [c.replace('_d', '') for c in columns]\n",
    "# remove suffix '_u'\n",
    "columns = [c.replace('_u', '') for c in columns]\n",
    "\n",
    "\n",
    "    \n",
    "# this operation is to remove duplicates\n",
    "columns = list(set(columns))"
   ]
  },
  {
   "cell_type": "code",
   "execution_count": 14,
   "metadata": {},
   "outputs": [
    {
     "data": {
      "text/plain": [
       "['E07000130',\n",
       " 'E07000121',\n",
       " 'E08000020',\n",
       " 'E08000028',\n",
       " 'E07000152',\n",
       " 'E07000119',\n",
       " 'E07000164',\n",
       " 'E09000013',\n",
       " 'E07000045',\n",
       " 'E07000170']"
      ]
     },
     "execution_count": 14,
     "metadata": {},
     "output_type": "execute_result"
    }
   ],
   "source": [
    "# Code Cell 14\n",
    "# visualize the first 10 areas\n",
    "columns[:10]"
   ]
  },
  {
   "cell_type": "markdown",
   "metadata": {},
   "source": [
    "The best way to understand the data in the database is to visualize a part of it. In particular, we want to select the three statistics for an area. First of all, let's pick the first area we have in the dataset:"
   ]
  },
  {
   "cell_type": "code",
   "execution_count": 15,
   "metadata": {},
   "outputs": [
    {
     "name": "stdout",
     "output_type": "stream",
     "text": [
      "E07000130\n"
     ]
    }
   ],
   "source": [
    "# Code Cell 15\n",
    "area = columns[0]\n",
    "print(area) "
   ]
  },
  {
   "cell_type": "markdown",
   "metadata": {},
   "source": [
    "Now we want to visualize the data relative to the area `E07000101`. We need to select the columns containing the three measurements for this area. To do so, we need to manipulate strings again. \n",
    "\n",
    "One way to format a string is:\n",
    "\n",
    "    'We are considering {} area and {} statistics'.format(1, 3)\n",
    "    \n",
    "    We are considering 1 area and 3 statistics\n",
    "\n",
    "We need to add the suffixes back in to get the correct column names. The first thing to do is to build a dictionary that associates the complete name of the measurement to the suffix. This is also going to be helpful to write a meaningful legend in the plot."
   ]
  },
  {
   "cell_type": "code",
   "execution_count": 16,
   "metadata": {},
   "outputs": [
    {
     "name": "stdout",
     "output_type": "stream",
     "text": [
      "dict_keys(['_p', '_d', '_u'])\n",
      "dict_values(['ping', 'download', 'upload'])\n"
     ]
    }
   ],
   "source": [
    "# Code Cell 16\n",
    "suffix = {'_p':'ping', '_d':'download', '_u':'upload'}\n",
    "# we have the suffixes as the keys of the dictionary\n",
    "print(suffix.keys())\n",
    "\n",
    "# we have the complete names as the values of the dictionary\n",
    "print(suffix.values())"
   ]
  },
  {
   "cell_type": "markdown",
   "metadata": {},
   "source": [
    "Now the process is to loop over the keys of the dictionary, write and execute the query to select the measurement relative to our area and, plot them using this code:\n",
    "\n",
    "    plt.plot(cur.fetchall(), label=suffix[s])\n",
    "    \n",
    "The method `fetchall()` retrieves all the rows of the query result. The field `label` will be used to produce the legend of the plot. We can also add a title to the plot, using the method `title()`.\n",
    "\n",
    "###### b) Write the query to select the relevant columns."
   ]
  },
  {
   "cell_type": "code",
   "execution_count": 17,
   "metadata": {},
   "outputs": [
    {
     "data": {
      "text/plain": [
       "Text(0.5, 1.0, 'E07000130')"
      ]
     },
     "execution_count": 17,
     "metadata": {},
     "output_type": "execute_result"
    },
    {
     "data": {
      "image/png": "[encoded data removed]",
      "text/plain": [
       "<Figure size 720x576 with 1 Axes>"
      ]
     },
     "metadata": {
      "needs_background": "light"
     },
     "output_type": "display_data"
    }
   ],
   "source": [
    "# Code Cell 17\n",
    "area = columns[0]\n",
    "plt.figure(figsize=(10, 8))\n",
    "\n",
    "# Plot each variable in suffix.keys() for each area\n",
    "for s in suffix.keys():\n",
    "    query = 'SELECT {0}{1} FROM LA_wifi_speed_UK'.format(area, s)\n",
    "    # Execute query\n",
    "    cur.execute(query)\n",
    "    plt.plot(cur.fetchall(), label=suffix[s])\n",
    "plt.legend()\n",
    "plt.title(area)"
   ]
  },
  {
   "cell_type": "markdown",
   "metadata": {},
   "source": [
    "## Part 3: Manipulate the data with Pandas\n",
    "\n",
    "The goal now is to calculate the average wifi speed for all the areas in the dataset. Pandas can help in storing and visualizing the data easily. \n",
    "\n",
    "#### Step 1: Convert all measurements to averages.\n",
    "For each Local Authority. we want to know what the average internet speed for ping, upload, and download was in the period of time over which our data was collected. Pandas dataframes are handy for this kind of operations.\n",
    "\n",
    "###### a) Create an empty dataframe with specific columns.\n",
    "\n",
    "     ['Area', 'Average_p', 'Average_u', 'Average_d']\n"
   ]
  },
  {
   "cell_type": "code",
   "execution_count": 18,
   "metadata": {},
   "outputs": [],
   "source": [
    "# Code Cell 18\n",
    "new_columns = ['Area', 'Average_p', 'Average_u', 'Average_d']\n",
    "df = pd.DataFrame(columns = new_columns)\n"
   ]
  },
  {
   "cell_type": "markdown",
   "metadata": {},
   "source": [
    "An interesting metric is the average speed of ping, upload, and download for every area. To compute it, we need to loop over the columns, and for each area, for each statistic, we want to compute the average. We will then insert it in the empty dataframe we have just created. \n",
    "\n",
    "To do so, we will create a temporary list and populate it with the three metrics for each area. This is going to be the row we are going to insert in the dataframe. \n",
    "\n",
    "To refresh the commands:\n",
    "\n",
    "* Loop over the list containing the name of the areas.\n",
    "* Loop over the three suffixes (keys of dictionary `suffix`).\n",
    "* Write the query to select the average of the metric for an area, using string formatters.\n",
    "* Execute the query and fetch the result (method `fetchone()`).\n",
    "* Append the average to the temporary list (method `append()`).\n",
    "* At the end of the internal loop, insert the temporary list in the dataframe (method `append()`, parameter `ignore_index=True`).\n",
    "\n",
    "###### b) Compute the averages.\n",
    "Write the SQL query that computes the average of a column and store it in a temporary list. The list will be the new row appended to the dataframe. This will take about 1 minute on the RaPi."
   ]
  },
  {
   "cell_type": "code",
   "execution_count": 19,
   "metadata": {},
   "outputs": [
    {
     "data": {
      "text/html": [
       "<div>\n",
       "<style scoped>\n",
       "    .dataframe tbody tr th:only-of-type {\n",
       "        vertical-align: middle;\n",
       "    }\n",
       "\n",
       "    .dataframe tbody tr th {\n",
       "        vertical-align: top;\n",
       "    }\n",
       "\n",
       "    .dataframe thead th {\n",
       "        text-align: right;\n",
       "    }\n",
       "</style>\n",
       "<table border=\"1\" class=\"dataframe\">\n",
       "  <thead>\n",
       "    <tr style=\"text-align: right;\">\n",
       "      <th></th>\n",
       "      <th>Area</th>\n",
       "      <th>Average_p</th>\n",
       "      <th>Average_u</th>\n",
       "      <th>Average_d</th>\n",
       "    </tr>\n",
       "  </thead>\n",
       "  <tbody>\n",
       "    <tr>\n",
       "      <th>0</th>\n",
       "      <td>E07000130</td>\n",
       "      <td>45.539931</td>\n",
       "      <td>23.444021</td>\n",
       "      <td>7.637599</td>\n",
       "    </tr>\n",
       "    <tr>\n",
       "      <th>1</th>\n",
       "      <td>E07000121</td>\n",
       "      <td>63.392180</td>\n",
       "      <td>17.165747</td>\n",
       "      <td>8.642699</td>\n",
       "    </tr>\n",
       "    <tr>\n",
       "      <th>2</th>\n",
       "      <td>E08000020</td>\n",
       "      <td>37.096322</td>\n",
       "      <td>15.247025</td>\n",
       "      <td>9.896660</td>\n",
       "    </tr>\n",
       "    <tr>\n",
       "      <th>3</th>\n",
       "      <td>E08000028</td>\n",
       "      <td>48.781165</td>\n",
       "      <td>22.389180</td>\n",
       "      <td>10.040027</td>\n",
       "    </tr>\n",
       "    <tr>\n",
       "      <th>4</th>\n",
       "      <td>E07000152</td>\n",
       "      <td>38.432312</td>\n",
       "      <td>22.541870</td>\n",
       "      <td>8.979120</td>\n",
       "    </tr>\n",
       "  </tbody>\n",
       "</table>\n",
       "</div>"
      ],
      "text/plain": [
       "        Area  Average_p  Average_u  Average_d\n",
       "0  E07000130  45.539931  23.444021   7.637599\n",
       "1  E07000121  63.392180  17.165747   8.642699\n",
       "2  E08000020  37.096322  15.247025   9.896660\n",
       "3  E08000028  48.781165  22.389180  10.040027\n",
       "4  E07000152  38.432312  22.541870   8.979120"
      ]
     },
     "execution_count": 19,
     "metadata": {},
     "output_type": "execute_result"
    }
   ],
   "source": [
    "# Code Cell 19\n",
    "# this will take a while...\n",
    "for i in range(len(columns)-1): #EDL : replace xrange with range\n",
    "    tmp_list = []\n",
    "    tmp_list.append(columns[i])\n",
    "    for s in suffix.keys():\n",
    "        # query = ??\n",
    "        if (columns[i] != 'DateTime'):\n",
    "            query = 'SELECT {0}{1} FROM LA_wifi_speed_UK'.format(columns[i], s)\n",
    "\n",
    "        \n",
    "        cur.execute(query)\n",
    "        \n",
    "        mean = cur.fetchone()\n",
    "        tmp_list.append(mean[0])\n",
    "    #append the columns to the empty DataFrame\n",
    "    df = df.append(pd.Series(tmp_list, index=new_columns), ignore_index=True)\n",
    "# visualize the head of the dataframe here\n",
    "df.head()"
   ]
  },
  {
   "cell_type": "markdown",
   "metadata": {},
   "source": [
    "It is possible to visualize the averages for each area using `plot()`. This will show whether the average speed is the same throughout the different areas or not."
   ]
  },
  {
   "cell_type": "code",
   "execution_count": 20,
   "metadata": {},
   "outputs": [
    {
     "data": {
      "text/plain": [
       "[<matplotlib.lines.Line2D at 0x7fe6b2ed2220>,\n",
       " <matplotlib.lines.Line2D at 0x7fe6b2ed22b0>,\n",
       " <matplotlib.lines.Line2D at 0x7fe6b2ed23d0>]"
      ]
     },
     "execution_count": 20,
     "metadata": {},
     "output_type": "execute_result"
    },
    {
     "data": {
      "image/png": "[encoded data removed]",
      "text/plain": [
       "<Figure size 1440x720 with 1 Axes>"
      ]
     },
     "metadata": {
      "needs_background": "light"
     },
     "output_type": "display_data"
    }
   ],
   "source": [
    "# Code Cell 20\n",
    "plt.figure(figsize=(20,10))\n",
    "plt.plot(df.index, df[['Average_d','Average_u','Average_p']], 'o')"
   ]
  },
  {
   "cell_type": "markdown",
   "metadata": {},
   "source": [
    "Now the average speeds are stored in a Pandas dataframe. It might be useful to save them to a table in our database, and Pandas offers a method (`to_sql()`) to do so. \n",
    "We will first check whether the table already exists (this might create problems). If it exists, we want to drop it, and then create it. Otherwise we will directly create it. \n",
    "\n",
    "The construct `try... except` will capture the exception raised in case the table does not exist, and proceed to the creation of the table (for help, see Section 8.3 of https://docs.python.org/2.7/tutorial/errors.html). \n",
    "\n",
    "###### c) Save the work.\n",
    "Save the new dataframe to a table in the InternetSpeed database. "
   ]
  },
  {
   "cell_type": "code",
   "execution_count": 21,
   "metadata": {},
   "outputs": [],
   "source": [
    "# Code Cell 21\n",
    "# Make sure to drop the table first if it already exists\n",
    "try:\n",
    "    cur.execute('DROP TABLE average_speed')\n",
    "except:\n",
    "    pass\n",
    "\n",
    "# what is the name of the table you want to save? To what connection?\n",
    "# Save the dataframe table into a SQL table\n",
    "df.to_sql('average_speed', con=conn)\n"
   ]
  },
  {
   "cell_type": "code",
   "execution_count": 22,
   "metadata": {},
   "outputs": [
    {
     "name": "stdout",
     "output_type": "stream",
     "text": [
      "(0, 'E07000130', 45.5399310145, 23.4440210033, 7.63759918615)\n",
      "(1, 'E07000121', 63.3921801381, 17.1657465498, 8.64269864718)\n"
     ]
    }
   ],
   "source": [
    "# Code Cell 22\n",
    "# just checking everything worked fine: select everything from the table we just created\n",
    "# and then print the first two rows of the result\n",
    "\n",
    "query_2 = 'SELECT * FROM average_speed'\n",
    "cur.execute(query_2)\n",
    "\n",
    "# print the first fetched record\n",
    "print(cur.fetchone())\n",
    "# print the next fetched record\n",
    "print(cur.fetchone())"
   ]
  },
  {
   "cell_type": "markdown",
   "metadata": {},
   "source": [
    "## Part 4: Join Tables\n",
    "\n",
    "To understand why and how the average Internet speed changes around the areas, we need more information about them. In particular, we are interested in how populated they are, to see if a crowded area has better or worse Internet service. \n",
    "\n",
    "#### Step 1: Get relevant information.\n",
    "This information can be found in this file: \n",
    "\n",
    "    ./Data/LA_population.csv\n",
    "    \n",
    "Here, LA stands for Local Authority, rather than Los Angeles. \n",
    "We want to join the information contained in this file with the average speed computed earlier.\n",
    "First, create a new table and store this data in the InternetSpeed database.\n",
    "\n",
    "###### a) Create the population table.\n",
    "Using csvsql, import the file LA_population.csv into the InternetSpeed database. Repeat the steps done to create the other tables in the database."
   ]
  },
  {
   "cell_type": "code",
   "execution_count": 23,
   "metadata": {},
   "outputs": [],
   "source": [
    "# Code Cell 23\n",
    "#first close the database file, otherwise the external csvsql command cannot use\n",
    "conn.close()"
   ]
  },
  {
   "cell_type": "code",
   "execution_count": 24,
   "metadata": {},
   "outputs": [],
   "source": [
    "# Code Cell 24\n",
    "# use the external csvsql command to add to the DB file data from the CSV file\n",
    "#!csvsql --db sqlite:///...\n",
    "!csvsql --db sqlite:///InternetSpeed.db --insert ./Data/LA_population.csv"
   ]
  },
  {
   "cell_type": "code",
   "execution_count": 25,
   "metadata": {},
   "outputs": [],
   "source": [
    "# Code Cell 25\n",
    "#reopen the DB file\n",
    "#conn = sqlite3.connect(...)\n",
    "conn = sqlite3.connect('InternetSpeed.db')\n",
    "\n",
    "cur = conn.cursor()"
   ]
  },
  {
   "cell_type": "markdown",
   "metadata": {},
   "source": [
    "###### b) Test that everything worked.\n",
    "To test that everything worked and to have an idea of what is inside this new table, select the first 10 rows and print them."
   ]
  },
  {
   "cell_type": "code",
   "execution_count": 26,
   "metadata": {},
   "outputs": [
    {
     "name": "stdout",
     "output_type": "stream",
     "text": [
      "('Aberdeen City', 'S12000033', 222793.0)\n",
      "('Aberdeenshire', 'S12000034', 252973.0)\n",
      "('Adur', 'E07000223', 61182.0)\n",
      "('Allerdale', 'E07000026', 96422.0)\n",
      "('Amber Valley', 'E07000032', 122309.0)\n",
      "('Angus', 'S12000041', 115978.0)\n",
      "('Antrim and Newtownabbey', 'N09000001', 138567.0)\n",
      "('Ards and North Down', 'N09000011', 156672.0)\n",
      "('Argyll and Bute', 'S12000035', 88166.0)\n",
      "('Armagh City, Banbridge and Craigavon', 'N09000002', 199693.0)\n"
     ]
    }
   ],
   "source": [
    "# Code Cell 26\n",
    "query = 'SELECT * FROM LA_population LIMIT 10'\n",
    "\n",
    "\n",
    "cur.execute(query)\n",
    "\n",
    "\n",
    "\n",
    "for row in cur:\n",
    "    # print the first fetched record\n",
    "    print(row)\n"
   ]
  },
  {
   "cell_type": "markdown",
   "metadata": {},
   "source": [
    "We can join the two tables in order to have all the information needed. The idea is that the two tables have a field in common, the area name. This is the key on which we want to join. It means that we want a new table that has a row for each area name that contains both the average speed information and the geographical information. The way SQL does this is comparing row by row, and merging together the rows with the same value for the key (i.e., the same area name).\n",
    "\n",
    "###### c) Execute the JOIN query and print the first 10 rows of the result. "
   ]
  },
  {
   "cell_type": "code",
   "execution_count": 27,
   "metadata": {},
   "outputs": [
    {
     "name": "stdout",
     "output_type": "stream",
     "text": [
      "(0, 'E07000130', 45.5399310145, 23.4440210033, 7.63759918615, 'Charnwood', 'E07000130', 166100.0)\n",
      "(1, 'E07000121', 63.3921801381, 17.1657465498, 8.64269864718, 'Lancaster', 'E07000121', 138375.0)\n",
      "(2, 'E08000020', 37.0963221862, 15.2470248833, 9.89666034661, 'Gateshead', 'E08000020', 200214.0)\n",
      "(3, 'E08000028', 48.7811652371, 22.3891797732, 10.0400273403, 'Sandwell', 'E08000028', 308063.0)\n",
      "(4, 'E07000152', 38.4323124031, 22.5418695686, 8.97911956001, 'East Northamptonshire', 'E07000152', 86765.0)\n",
      "(5, 'E07000119', 50.1105847107, 16.7048944352, 8.39862128035, 'Fylde', 'E07000119', 75757.0)\n",
      "(6, 'E07000164', 52.4248235873, 24.4511734823, 7.24310081204, 'Hambleton', 'E07000164', 89140.0)\n",
      "(7, 'E09000013', 55.0635368483, 29.371882801, 9.02853338254, 'Hammersmith and Fulham', 'E09000013', 182493.0)\n",
      "(8, 'E07000045', 59.0915491428, 19.1397480578, 8.94709359217, 'Teignbridge', 'E07000045', 124220.0)\n",
      "(9, 'E07000170', 61.278089363, 19.1071153095, 9.01919285708, 'Ashfield', 'E07000170', 119497.0)\n",
      "(10, 'E07000140', 55.2121700348, 13.8873461558, 8.09166314785, 'South Holland', 'E07000140', 88270.0)\n"
     ]
    }
   ],
   "source": [
    "# Code Cell 27\n",
    "query = 'SELECT * FROM average_speed JOIN LA_population ON LA_population.\"LA_code\"=average_speed.Area'\n",
    "\n",
    "cur.execute(query)\n",
    "k = 0\n",
    "for row in cur:\n",
    "    if k>10:\n",
    "        break\n",
    "    print(row)\n",
    "    \n",
    "\n",
    "    \n",
    "    k+=1"
   ]
  },
  {
   "cell_type": "markdown",
   "metadata": {
    "collapsed": true
   },
   "source": [
    "<font size='0.5'>&copy; 2017 Cisco and/or its affiliates. All rights reserved. This document is Cisco Public.<font>"
   ]
  }
 ],
 "metadata": {
  "anaconda-cloud": {},
  "interpreter": {
   "hash": "916dbcbb3f70747c44a77c7bcd40155683ae19c65e1c03b4aa3499c5328201f1"
  },
  "kernelspec": {
   "display_name": "Python 3 (ipykernel)",
   "language": "python",
   "name": "python3"
  },
  "language_info": {
   "codemirror_mode": {
    "name": "ipython",
    "version": 3
   },
   "file_extension": ".py",
   "mimetype": "text/x-python",
   "name": "python",
   "nbconvert_exporter": "python",
   "pygments_lexer": "ipython3",
   "version": "3.8.10"
  }
 },
 "nbformat": 4,
 "nbformat_minor": 1
}
