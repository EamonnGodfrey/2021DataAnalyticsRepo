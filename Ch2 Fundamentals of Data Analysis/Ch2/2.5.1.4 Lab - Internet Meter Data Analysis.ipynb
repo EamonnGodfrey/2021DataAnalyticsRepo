{
 "cells": [
  {
   "cell_type": "markdown",
   "source": [
    "![Title](Images/cisco.png)"
   ],
   "metadata": {}
  },
  {
   "cell_type": "markdown",
   "source": [
    "# Lab - Internet Meter Data Analysis "
   ],
   "metadata": {}
  },
  {
   "cell_type": "markdown",
   "source": [
    "### Objectives\n",
    "<li>**Part 1: Collect and Store Data**</li>\n",
    "<li>**Part 2: Manipulate Data**</li>\n",
    "### Scenario/Background\n",
    "In this lab, you will acquire Internet speed statistics and store the live data in a comma separated values (csv) file. You will also load the stored data from the csv file to a Python data structure, the Pandas `DataFrame`, and use its functionalities to explore the data and manipulate it so that it is easily readable.\n",
    "### Required Resources\n",
    "* 1 PC with Internet access\n",
    "* Raspberry Pi version 2 or higher\n",
    "* Python libraries: datetime, csv, subprocess, pandas, numpy\n",
    "* Datafiles: rpi_data_long.csv"
   ],
   "metadata": {}
  },
  {
   "cell_type": "markdown",
   "source": [
    "## Part 1: Collect and Store Data\n",
    "<p>The goal of this first part of the lab is to gather internet speed measurements through the Raspberry Pi. Three kinds of measurements will be collected:\n",
    "1. Ping speed\n",
    "2. Download speed\n",
    "3. Upload speed"
   ],
   "metadata": {}
  },
  {
   "cell_type": "markdown",
   "source": [
    "#### Step 1: Install Speedtest and Import Python Libraries.\n",
    "In this step, you will install Speedtest and import Python libraries.\n",
    "<p>Speedtest-cli is a Python script that measures the upload and download speed of your Internet connection. For more information about speedtest, go to https://github.com/sivel/speedtest-cli."
   ],
   "metadata": {}
  },
  {
   "cell_type": "markdown",
   "source": [
    "a) Install `speedtest-cli`."
   ],
   "metadata": {}
  },
  {
   "cell_type": "code",
   "execution_count": 1,
   "source": [
    "# Code cell 1\n",
    "!pip install speedtest-cli"
   ],
   "outputs": [
    {
     "output_type": "stream",
     "name": "stdout",
     "text": [
      "Defaulting to user installation because normal site-packages is not writeable\n",
      "Collecting speedtest-cli\n",
      "  Downloading speedtest_cli-2.1.3-py2.py3-none-any.whl (23 kB)\n",
      "Installing collected packages: speedtest-cli\n",
      "Successfully installed speedtest-cli-2.1.3\n"
     ]
    }
   ],
   "metadata": {
    "collapsed": true
   }
  },
  {
   "cell_type": "markdown",
   "source": [
    "This cli allows the Jupyter notebook to connect to the website and store the data."
   ],
   "metadata": {}
  },
  {
   "cell_type": "markdown",
   "source": [
    "b) Import the necessary Python libraries."
   ],
   "metadata": {}
  },
  {
   "cell_type": "code",
   "execution_count": 2,
   "source": [
    "# Code cell 2\n",
    "# Python library to manage date and time data\n",
    "import datetime\n",
    "# Python library to read and write csv files\n",
    "import csv\n",
    "# Python library to execute bash commands from the notebook.\n",
    "# If you want to know more about this, check this resource: \n",
    "# http://www.pythonforbeginners.com/os/subprocess-for-system-administrators\n",
    "import subprocess"
   ],
   "outputs": [],
   "metadata": {
    "collapsed": true
   }
  },
  {
   "cell_type": "markdown",
   "source": [
    "#### Step 2: Generate timestamps using the `datetime` package.\n",
    "In this lab, measurements of Internet speed statistics will be generated. A crucial step in data acquisition for the majority of data analytics applications, is to associate a timestamp to measurements. "
   ],
   "metadata": {}
  },
  {
   "cell_type": "markdown",
   "source": [
    "a) To generate a timestamp, use the `datetime.now` function of the `datetime` package: "
   ],
   "metadata": {}
  },
  {
   "cell_type": "code",
   "execution_count": 3,
   "source": [
    "# Code cell 3\n",
    "date_time = datetime.datetime.now()\n",
    "print(date_time, type(date_time))"
   ],
   "outputs": [
    {
     "output_type": "stream",
     "name": "stdout",
     "text": [
      "2021-09-09 16:12:21.851075 <class 'datetime.datetime'>\n"
     ]
    }
   ],
   "metadata": {
    "collapsed": true
   }
  },
  {
   "cell_type": "markdown",
   "source": [
    "b) An instance of the class `datetime` cannot be directly written to in text form. The function `strftime` parses the date information into a string. The arguments of this function determine the format of the output sting. A description of these parameters can be found in the documentation of the `strftime` function at https://docs.python.org/2/library/time.html. "
   ],
   "metadata": {}
  },
  {
   "cell_type": "code",
   "execution_count": 4,
   "source": [
    "# Code cell 4\n",
    "date_time.strftime('%a, %d %b %Y %H:%M:%S')"
   ],
   "outputs": [
    {
     "output_type": "execute_result",
     "data": {
      "text/plain": [
       "'Thu, 09 Sep 2021 16:12:21'"
      ]
     },
     "metadata": {},
     "execution_count": 4
    }
   ],
   "metadata": {
    "collapsed": true
   }
  },
  {
   "cell_type": "markdown",
   "source": [
    "After reading the documentation of the `strftime` function, generate a timestamp and parse it into a string with the following format: YYYY-MM-DD HH:MM:SS."
   ],
   "metadata": {}
  },
  {
   "cell_type": "code",
   "execution_count": 5,
   "source": [
    "# Code cell 5\n",
    "# enter your code\n",
    "date_time.strftime('%Y-%m-%d %H:%M:%S')"
   ],
   "outputs": [
    {
     "output_type": "execute_result",
     "data": {
      "text/plain": [
       "'2021-09-09 16:12:21'"
      ]
     },
     "metadata": {},
     "execution_count": 5
    }
   ],
   "metadata": {
    "collapsed": true
   }
  },
  {
   "cell_type": "markdown",
   "source": [
    "#### Step 3: Run the process and collect the output with Python.\n",
    "\n",
    "The `speedtest-cli` command, if run from a terminal, returns a string with download and upload speeds. To run the command from this notebook, it is necessary to use the Python module `subprocess`, which allows running a process directly from the notebook code cell. "
   ],
   "metadata": {}
  },
  {
   "cell_type": "markdown",
   "source": [
    "a) Run a speed test using the `speedtest-cli` command from Python. The output will be stored in the process_output variable."
   ],
   "metadata": {}
  },
  {
   "cell_type": "code",
   "execution_count": 6,
   "source": [
    "# Code cell 6\n",
    "# This string contains the command line to interface with speedtest.net\n",
    "speedtest_cmd = \"speedtest-cli --simple\"\n",
    "# Execute the process\n",
    "process = subprocess.Popen(speedtest_cmd.split(), stdout=subprocess.PIPE)\n",
    "# Collect the command output\n",
    "process_output = process.communicate()[0]"
   ],
   "outputs": [],
   "metadata": {
    "collapsed": true
   }
  },
  {
   "cell_type": "markdown",
   "source": [
    "b) Print the process output. Notice the type for the `process_output` variable."
   ],
   "metadata": {}
  },
  {
   "cell_type": "code",
   "execution_count": 7,
   "source": [
    "# Code cell 7\n",
    "print(process_output, type(process_output))"
   ],
   "outputs": [
    {
     "output_type": "stream",
     "name": "stdout",
     "text": [
      "b'Ping: 7.609 ms\\nDownload: 61.79 Mbit/s\\nUpload: 37.05 Mbit/s\\n' <class 'bytes'>\n"
     ]
    }
   ],
   "metadata": {
    "collapsed": true
   }
  },
  {
   "cell_type": "markdown",
   "source": [
    "c) The speed test result is split, and a timestamp is appended to the results."
   ],
   "metadata": {}
  },
  {
   "cell_type": "code",
   "execution_count": 8,
   "source": [
    "# Code cell 8\n",
    "# Store the time at which the speedtest was executed\n",
    "date_time = datetime.datetime.now().strftime(\"%Y-%m-%d %H:%M:%S\")\n",
    "process_output = process_output.split()\n",
    "process_output.append(date_time)\n",
    "print(process_output, type(process_output))"
   ],
   "outputs": [
    {
     "output_type": "stream",
     "name": "stdout",
     "text": [
      "[b'Ping:', b'7.609', b'ms', b'Download:', b'61.79', b'Mbit/s', b'Upload:', b'37.05', b'Mbit/s', '2021-09-09 16:21:50'] <class 'list'>\n"
     ]
    }
   ],
   "metadata": {
    "collapsed": true
   }
  },
  {
   "cell_type": "markdown",
   "source": [
    "d) The speedtest() function is created to return the results from the speedtest-cli command."
   ],
   "metadata": {}
  },
  {
   "cell_type": "code",
   "execution_count": 9,
   "source": [
    "# Code cell 9\n",
    "# function to excute the speed test\n",
    "def speedtest():\n",
    "    # We need to store the time at which the speedtest was executed\n",
    "    date_time = datetime.datetime.now().strftime(\"%Y-%m-%d %H:%M:%S\")\n",
    "    # This is a string that contains what we would write on the command line \n",
    "    #to interface with speedtest.net\n",
    "    speedtest_cmd = \"speedtest-cli --simple\"\n",
    "    # We now execute the process: \n",
    "    process = subprocess.Popen(speedtest_cmd.split(), stdout=subprocess.PIPE)\n",
    "    process_output = process.communicate()[0]\n",
    "    process_output = process_output.split()\n",
    "    # and we add the date and time \n",
    "    process_output.append(date_time)\n",
    "    return process_output"
   ],
   "outputs": [],
   "metadata": {
    "collapsed": true
   }
  },
  {
   "cell_type": "markdown",
   "source": [
    "What does the speedtest() function return? What is the code to view results from the speedtest() function?"
   ],
   "metadata": {}
  },
  {
   "cell_type": "markdown",
   "source": [
    "the speedtest() function returns 'process_output' as a list containing the speedtest results as well as a timestamp for the operation. "
   ],
   "metadata": {}
  },
  {
   "cell_type": "code",
   "execution_count": 10,
   "source": [
    "# Code cell 10 \n",
    "# Code to view the results from speedtest() function\n",
    "newTest = speedtest()\n",
    "print(newTest)"
   ],
   "outputs": [
    {
     "output_type": "stream",
     "name": "stdout",
     "text": [
      "[b'Ping:', b'6.923', b'ms', b'Download:', b'60.79', b'Mbit/s', b'Upload:', b'33.59', b'Mbit/s', '2021-09-09 16:28:57']\n"
     ]
    }
   ],
   "metadata": {
    "collapsed": true
   }
  },
  {
   "cell_type": "markdown",
   "source": [
    "#### Step 4: Store the output of the `speedtest()` function.\n",
    "\n",
    "The comma separated values (csv) is the most common import and export format for spreadsheets and databases. To learn more information about working with csv in Python, navigate to https://docs.python.org/2/library/csv.html."
   ],
   "metadata": {}
  },
  {
   "cell_type": "markdown",
   "source": [
    "a) Create a file named test.txt in the /tmp directory and write \"test_msg\" in the file."
   ],
   "metadata": {}
  },
  {
   "cell_type": "code",
   "execution_count": 11,
   "source": [
    "# Code cell 11\n",
    "with open(\"/tmp/test.txt\",'w') as f:\n",
    "    f.write('test_msg')"
   ],
   "outputs": [],
   "metadata": {
    "collapsed": true
   }
  },
  {
   "cell_type": "markdown",
   "source": [
    "b) Use the Linux command `cat` to verify the creation and content of the file."
   ],
   "metadata": {}
  },
  {
   "cell_type": "code",
   "execution_count": 12,
   "source": [
    "# Code cell 12\n",
    "!cat /tmp/test.txt"
   ],
   "outputs": [
    {
     "output_type": "stream",
     "name": "stdout",
     "text": [
      "test_msg"
     ]
    }
   ],
   "metadata": {
    "collapsed": true
   }
  },
  {
   "cell_type": "markdown",
   "source": [
    "c) To check that the file was successfully open:"
   ],
   "metadata": {}
  },
  {
   "cell_type": "code",
   "execution_count": 13,
   "source": [
    "# Code cell 13\n",
    "with open(\"/tmp/test.txt\",'r') as f:\n",
    "   str = f.read()\n",
    "print(str)"
   ],
   "outputs": [
    {
     "output_type": "stream",
     "name": "stdout",
     "text": [
      "test_msg\n"
     ]
    }
   ],
   "metadata": {
    "collapsed": true
   }
  },
  {
   "cell_type": "markdown",
   "source": [
    "d) Understanding the meaning of the `with` statement, especially in combination with `try` and `except` is not required for the rest of this lab, but a useful resource about this is http://effbot.org/zone/python-with-statement.htm.\n",
    "<p>\n",
    "To write into a `csv` file, it is necessary to create a `csv.writer` object. Check https://docs.python.org/2/library/csv.html and find out which function of the 'csv.writer' object can be used to add a row to a `csv` file."
   ],
   "metadata": {}
  },
  {
   "cell_type": "code",
   "execution_count": 15,
   "source": [
    "# Code cell 14\n",
    "# function to save data to csv\n",
    "def save_to_csv(data, filename):\n",
    "    try:\n",
    "        # If the file exists, we want to append a new line to it, with the \n",
    "        #results of the current experiment\n",
    "        with open(filename + '.csv', 'a') as f:\n",
    "            wr = csv.writer(f)\n",
    "            wr.writerow(data)\n",
    "    except:\n",
    "        # If it does not exist, create the file first\n",
    "        with open(filename + '.csv', 'w') as f:\n",
    "            wr = csv.writer(f)\n",
    "            wr.writerow(data)\n",
    "            # Hint: This is similar to appending new lines to a file.\n",
    "            # Create a csv writer object\n",
    "            # ADD CODE HERE\n",
    "            # Save (write) to file\n",
    "            # ADD CODE HERE"
   ],
   "outputs": [],
   "metadata": {
    "collapsed": true
   }
  },
  {
   "cell_type": "markdown",
   "source": [
    "#### Step 5: Check the collected data.\n",
    "Write a function to open a csv file and print its content to screen. You can find an example in the 13.1.5 section of https://docs.python.org/2/library/csv.html"
   ],
   "metadata": {}
  },
  {
   "cell_type": "code",
   "execution_count": 17,
   "source": [
    "# Code cell 15\n",
    "def print_from_csv(filename): \n",
    "    with open(filename + '.csv', 'r') as f:\n",
    "            re = csv.reader(f)\n",
    "            for row in re:\n",
    "                print(row)"
   ],
   "outputs": [],
   "metadata": {
    "collapsed": true
   }
  },
  {
   "cell_type": "markdown",
   "source": [
    "Now, all the functions needed to collect and store Internet speed data are finished.\n",
    "#### Step 6: Run the Speedtest multiple times and store the data.\n",
    "a) Write a `for` loop that calls the speedtest 5 times, prints the output of the tests, and stores the data in a csv file."
   ],
   "metadata": {}
  },
  {
   "cell_type": "code",
   "execution_count": 18,
   "source": [
    "# Code cell 16\n",
    "for i in range(5):\n",
    "    speedtest_output = speedtest()\n",
    "    print('Test number {}'.format(i))\n",
    "    print(speedtest_output)\n",
    "    save_to_csv(speedtest_output, '/tmp/rpi_data_test')\n",
    "    "
   ],
   "outputs": [
    {
     "output_type": "stream",
     "name": "stdout",
     "text": [
      "Test number 0\n",
      "[b'Ping:', b'7.8', b'ms', b'Download:', b'61.18', b'Mbit/s', b'Upload:', b'35.48', b'Mbit/s', '2021-09-09 16:44:17']\n",
      "Test number 1\n",
      "[b'Ping:', b'10.318', b'ms', b'Download:', b'61.94', b'Mbit/s', b'Upload:', b'37.03', b'Mbit/s', '2021-09-09 16:44:39']\n",
      "Test number 2\n",
      "[b'Ping:', b'7.406', b'ms', b'Download:', b'58.43', b'Mbit/s', b'Upload:', b'37.67', b'Mbit/s', '2021-09-09 16:45:00']\n",
      "Test number 3\n",
      "[b'Ping:', b'9.267', b'ms', b'Download:', b'60.06', b'Mbit/s', b'Upload:', b'34.84', b'Mbit/s', '2021-09-09 16:45:21']\n",
      "Test number 4\n",
      "[b'Ping:', b'10.338', b'ms', b'Download:', b'56.48', b'Mbit/s', b'Upload:', b'37.17', b'Mbit/s', '2021-09-09 16:45:42']\n"
     ]
    }
   ],
   "metadata": {
    "collapsed": true
   }
  },
  {
   "cell_type": "markdown",
   "source": [
    "b) Display the file to verify that the data has been saved correctly."
   ],
   "metadata": {}
  },
  {
   "cell_type": "code",
   "execution_count": 19,
   "source": [
    "# Code cell 17\n",
    "print_from_csv('/tmp/rpi_data_test')\n"
   ],
   "outputs": [
    {
     "output_type": "stream",
     "name": "stdout",
     "text": [
      "[\"b'Ping:'\", \"b'7.8'\", \"b'ms'\", \"b'Download:'\", \"b'61.18'\", \"b'Mbit/s'\", \"b'Upload:'\", \"b'35.48'\", \"b'Mbit/s'\", '2021-09-09 16:44:17']\n",
      "[\"b'Ping:'\", \"b'10.318'\", \"b'ms'\", \"b'Download:'\", \"b'61.94'\", \"b'Mbit/s'\", \"b'Upload:'\", \"b'37.03'\", \"b'Mbit/s'\", '2021-09-09 16:44:39']\n",
      "[\"b'Ping:'\", \"b'7.406'\", \"b'ms'\", \"b'Download:'\", \"b'58.43'\", \"b'Mbit/s'\", \"b'Upload:'\", \"b'37.67'\", \"b'Mbit/s'\", '2021-09-09 16:45:00']\n",
      "[\"b'Ping:'\", \"b'9.267'\", \"b'ms'\", \"b'Download:'\", \"b'60.06'\", \"b'Mbit/s'\", \"b'Upload:'\", \"b'34.84'\", \"b'Mbit/s'\", '2021-09-09 16:45:21']\n",
      "[\"b'Ping:'\", \"b'10.338'\", \"b'ms'\", \"b'Download:'\", \"b'56.48'\", \"b'Mbit/s'\", \"b'Upload:'\", \"b'37.17'\", \"b'Mbit/s'\", '2021-09-09 16:45:42']\n"
     ]
    }
   ],
   "metadata": {
    "collapsed": true
   }
  },
  {
   "cell_type": "markdown",
   "source": [
    "If a bigger dataset is needed, the speedtest can be running in the background for more samples.\n",
    "\n",
    "How would you change the code if you wanted to run the code 100 times?"
   ],
   "metadata": {}
  },
  {
   "cell_type": "markdown",
   "source": [
    "I wouldn't have it print the speedtest results every time it completed it. Just let it write it to the file and check it once it has completed."
   ],
   "metadata": {
    "collapsed": true
   }
  },
  {
   "cell_type": "code",
   "execution_count": null,
   "source": [
    "# Code cell 18\n",
    "# Code to run 100 times\n",
    "# for i in xrange(100):\n",
    "#     speedtest_output = speedtest()\n",
    "#     print 'Test number: {}'.format(i)            <-- Remove this line\n",
    "#     print speedtest_output                       <-- Remove this line\n",
    "#     save_to_csv(speedtest_output, '/tmp/rpi_data')"
   ],
   "outputs": [],
   "metadata": {
    "collapsed": true
   }
  },
  {
   "cell_type": "markdown",
   "source": [
    "## Part 2: Manipulate Data"
   ],
   "metadata": {}
  },
  {
   "cell_type": "markdown",
   "source": [
    "The Python library `pandas` is very useful for working with structured data. The full documentation can be found here: http://pandas.pydata.org/pandas-docs/version/0.14.1/</font>\n",
    "\n",
    "A larger dataset collected in advance will be used for this part of the lab. The filename is `rpi_data_long.csv`.\n",
    "\n",
    "#### Step 1: Import the Python libraries.\n",
    "\n",
    "Import `pandas` and the other libraries used for the next tasks."
   ],
   "metadata": {}
  },
  {
   "cell_type": "code",
   "execution_count": 21,
   "source": [
    "# Code cell 19\n",
    "import datetime\n",
    "import csv\n",
    "import pandas as pd\n",
    "# NumPy is a library that adds support for large, multi-dimensional arrays and matrices\n",
    "# along with high-level mathematical functions to operate on these arrays\n",
    "import numpy as np"
   ],
   "outputs": [],
   "metadata": {
    "collapsed": true
   }
  },
  {
   "cell_type": "markdown",
   "source": [
    "#### Step 2: Load the `csv` file into a `DataFrame` object using `pandas`.\n",
    "\n",
    "A `pandas DataFrame` is a 2-dimensional labeled data structure with columns of potentially different types. You can think of it like a spreadsheet or SQL table. The pandas library function `read_csv` automatically converts a `csv` file into a `DataFrame` object.\n",
    "\n",
    "Read the `read_csv` documentation in http://pandas.pydata.org/pandas-docs/version/0.14.1/generated/pandas.read_csv.html.\n",
    "This function contains a lot of parameters. The only non-optional one is the `filepath`, i.e. the location of the `csv` file. All the other parameters are optional.\n",
    "\n",
    "In this step, you will import and view the content of the csv file, `rpi_data_long.csv`. This csv file is located in the same directory as this Jupyter notebook."
   ],
   "metadata": {}
  },
  {
   "cell_type": "markdown",
   "source": [
    "a) Assign the file `rpi_data_long.csv` to the variable `data_file`."
   ],
   "metadata": {}
  },
  {
   "cell_type": "code",
   "execution_count": 22,
   "source": [
    "# Code cell 20\n",
    "data_file = './Data/rpi_data_long.csv'"
   ],
   "outputs": [],
   "metadata": {
    "collapsed": true
   }
  },
  {
   "cell_type": "markdown",
   "source": [
    "b) Use the Linux command `head` to view the first 10 lines of the csv file."
   ],
   "metadata": {}
  },
  {
   "cell_type": "code",
   "execution_count": 27,
   "source": [
    "# Code cell 21\n",
    "!head -n 5 ./Data/rpi_data_long.csv"
   ],
   "outputs": [
    {
     "output_type": "stream",
     "name": "stdout",
     "text": [
      "\n",
      "\n",
      "\n",
      "\n",
      "\n"
     ]
    }
   ],
   "metadata": {
    "collapsed": true,
    "scrolled": true
   }
  },
  {
   "cell_type": "markdown",
   "source": [
    "c) Use the `names` parameter of the `read_csv` function to specify the name of the `DataFrame` columns."
   ],
   "metadata": {}
  },
  {
   "cell_type": "code",
   "execution_count": 28,
   "source": [
    "# Code cell 22\n",
    "column_names = [ 'Type A', 'Measure A', 'Units A',\n",
    "                 'Type B', 'Measure B', 'Units B',\n",
    "                 'Type C', 'Measure C', 'Units C', \n",
    "                 'Datetime']"
   ],
   "outputs": [],
   "metadata": {
    "collapsed": true
   }
  },
  {
   "cell_type": "markdown",
   "source": [
    "d) Use the `read_csv` function to read from `data_file` and assign `column_names` as the column names in the dataframe."
   ],
   "metadata": {}
  },
  {
   "cell_type": "code",
   "execution_count": 29,
   "source": [
    "# Code cell 23\n",
    "with open(data_file, 'r') as f:\n",
    "    df_redundant = pd.read_csv(f, names = column_names)"
   ],
   "outputs": [],
   "metadata": {
    "collapsed": true
   }
  },
  {
   "cell_type": "markdown",
   "source": [
    "e) The command `head()` displays the first few rows of the dataframe."
   ],
   "metadata": {}
  },
  {
   "cell_type": "code",
   "execution_count": 30,
   "source": [
    "# Code cell 24\n",
    "# You can specify the number of rows you want to print to screen: \n",
    "# you do so passing the number as an argument to the function\n",
    "# (e.g., head(10))\n",
    "df_redundant.head()"
   ],
   "outputs": [
    {
     "output_type": "execute_result",
     "data": {
      "text/plain": [
       "  Type A Measure A Units A     Type B Measure B Units B   Type C  Measure C  \\\n",
       "0  Ping:    26.992      ms  Download:     91.80  Mbit/s  Upload:      14.31   \n",
       "1  Ping:    24.532      ms  Download:     88.19  Mbit/s  Upload:      14.12   \n",
       "2  Ping:    20.225      ms  Download:     59.86  Mbit/s  Upload:      14.11   \n",
       "3  Ping:    19.332      ms  Download:     91.81  Mbit/s  Upload:      14.22   \n",
       "4  Ping:    22.494      ms  Download:     92.05  Mbit/s  Upload:      14.08   \n",
       "\n",
       "  Units C             Datetime  \n",
       "0  Mbit/s  2016-11-24 13:36:25  \n",
       "1  Mbit/s  2016-11-24 13:36:55  \n",
       "2  Mbit/s  2016-11-24 13:37:25  \n",
       "3  Mbit/s  2016-11-24 13:37:57  \n",
       "4  Mbit/s  2016-11-24 13:38:27  "
      ],
      "text/html": [
       "<div>\n",
       "<style scoped>\n",
       "    .dataframe tbody tr th:only-of-type {\n",
       "        vertical-align: middle;\n",
       "    }\n",
       "\n",
       "    .dataframe tbody tr th {\n",
       "        vertical-align: top;\n",
       "    }\n",
       "\n",
       "    .dataframe thead th {\n",
       "        text-align: right;\n",
       "    }\n",
       "</style>\n",
       "<table border=\"1\" class=\"dataframe\">\n",
       "  <thead>\n",
       "    <tr style=\"text-align: right;\">\n",
       "      <th></th>\n",
       "      <th>Type A</th>\n",
       "      <th>Measure A</th>\n",
       "      <th>Units A</th>\n",
       "      <th>Type B</th>\n",
       "      <th>Measure B</th>\n",
       "      <th>Units B</th>\n",
       "      <th>Type C</th>\n",
       "      <th>Measure C</th>\n",
       "      <th>Units C</th>\n",
       "      <th>Datetime</th>\n",
       "    </tr>\n",
       "  </thead>\n",
       "  <tbody>\n",
       "    <tr>\n",
       "      <th>0</th>\n",
       "      <td>Ping:</td>\n",
       "      <td>26.992</td>\n",
       "      <td>ms</td>\n",
       "      <td>Download:</td>\n",
       "      <td>91.80</td>\n",
       "      <td>Mbit/s</td>\n",
       "      <td>Upload:</td>\n",
       "      <td>14.31</td>\n",
       "      <td>Mbit/s</td>\n",
       "      <td>2016-11-24 13:36:25</td>\n",
       "    </tr>\n",
       "    <tr>\n",
       "      <th>1</th>\n",
       "      <td>Ping:</td>\n",
       "      <td>24.532</td>\n",
       "      <td>ms</td>\n",
       "      <td>Download:</td>\n",
       "      <td>88.19</td>\n",
       "      <td>Mbit/s</td>\n",
       "      <td>Upload:</td>\n",
       "      <td>14.12</td>\n",
       "      <td>Mbit/s</td>\n",
       "      <td>2016-11-24 13:36:55</td>\n",
       "    </tr>\n",
       "    <tr>\n",
       "      <th>2</th>\n",
       "      <td>Ping:</td>\n",
       "      <td>20.225</td>\n",
       "      <td>ms</td>\n",
       "      <td>Download:</td>\n",
       "      <td>59.86</td>\n",
       "      <td>Mbit/s</td>\n",
       "      <td>Upload:</td>\n",
       "      <td>14.11</td>\n",
       "      <td>Mbit/s</td>\n",
       "      <td>2016-11-24 13:37:25</td>\n",
       "    </tr>\n",
       "    <tr>\n",
       "      <th>3</th>\n",
       "      <td>Ping:</td>\n",
       "      <td>19.332</td>\n",
       "      <td>ms</td>\n",
       "      <td>Download:</td>\n",
       "      <td>91.81</td>\n",
       "      <td>Mbit/s</td>\n",
       "      <td>Upload:</td>\n",
       "      <td>14.22</td>\n",
       "      <td>Mbit/s</td>\n",
       "      <td>2016-11-24 13:37:57</td>\n",
       "    </tr>\n",
       "    <tr>\n",
       "      <th>4</th>\n",
       "      <td>Ping:</td>\n",
       "      <td>22.494</td>\n",
       "      <td>ms</td>\n",
       "      <td>Download:</td>\n",
       "      <td>92.05</td>\n",
       "      <td>Mbit/s</td>\n",
       "      <td>Upload:</td>\n",
       "      <td>14.08</td>\n",
       "      <td>Mbit/s</td>\n",
       "      <td>2016-11-24 13:38:27</td>\n",
       "    </tr>\n",
       "  </tbody>\n",
       "</table>\n",
       "</div>"
      ]
     },
     "metadata": {},
     "execution_count": 30
    }
   ],
   "metadata": {
    "collapsed": true
   }
  },
  {
   "cell_type": "markdown",
   "source": [
    "What is the code to read the first 20 lines of the csv file?"
   ],
   "metadata": {}
  },
  {
   "cell_type": "markdown",
   "source": [
    "df_redundant.head(20)"
   ],
   "metadata": {}
  },
  {
   "cell_type": "markdown",
   "source": [
    "#### Step 3: Create a concise representation.\n",
    "In this step, you will create a more compact representation using a copy of the data frame `df_redundant`."
   ],
   "metadata": {}
  },
  {
   "cell_type": "markdown",
   "source": [
    "a) Copy `df_redundant` into another dataframe called `df_compact` using `copy()`."
   ],
   "metadata": {}
  },
  {
   "cell_type": "code",
   "execution_count": 31,
   "source": [
    "# Code cell 25\n",
    "df_compact = df_redundant.copy()"
   ],
   "outputs": [],
   "metadata": {
    "collapsed": true
   }
  },
  {
   "cell_type": "markdown",
   "source": [
    "b) Rename the columns relative to the measures as shown:\n",
    "\n",
    "    Measure A -> Ping (ms)\n",
    "    Measure B -> Download (Mbit/s)\n",
    "    Measure C -> Upload (Mbit/s)"
   ],
   "metadata": {}
  },
  {
   "cell_type": "code",
   "execution_count": 32,
   "source": [
    "# Code cell 26\n",
    "df_compact.rename(columns={'Measure A':'Ping (ms)', \n",
    "                           'Measure B': 'Download (Mbit/s)',\n",
    "                           'Measure C': 'Upload (Mbit/s)'}, inplace=True)\n",
    "df_compact.head(3)"
   ],
   "outputs": [
    {
     "output_type": "execute_result",
     "data": {
      "text/plain": [
       "  Type A Ping (ms) Units A     Type B Download (Mbit/s) Units B   Type C  \\\n",
       "0  Ping:    26.992      ms  Download:             91.80  Mbit/s  Upload:   \n",
       "1  Ping:    24.532      ms  Download:             88.19  Mbit/s  Upload:   \n",
       "2  Ping:    20.225      ms  Download:             59.86  Mbit/s  Upload:   \n",
       "\n",
       "   Upload (Mbit/s) Units C             Datetime  \n",
       "0            14.31  Mbit/s  2016-11-24 13:36:25  \n",
       "1            14.12  Mbit/s  2016-11-24 13:36:55  \n",
       "2            14.11  Mbit/s  2016-11-24 13:37:25  "
      ],
      "text/html": [
       "<div>\n",
       "<style scoped>\n",
       "    .dataframe tbody tr th:only-of-type {\n",
       "        vertical-align: middle;\n",
       "    }\n",
       "\n",
       "    .dataframe tbody tr th {\n",
       "        vertical-align: top;\n",
       "    }\n",
       "\n",
       "    .dataframe thead th {\n",
       "        text-align: right;\n",
       "    }\n",
       "</style>\n",
       "<table border=\"1\" class=\"dataframe\">\n",
       "  <thead>\n",
       "    <tr style=\"text-align: right;\">\n",
       "      <th></th>\n",
       "      <th>Type A</th>\n",
       "      <th>Ping (ms)</th>\n",
       "      <th>Units A</th>\n",
       "      <th>Type B</th>\n",
       "      <th>Download (Mbit/s)</th>\n",
       "      <th>Units B</th>\n",
       "      <th>Type C</th>\n",
       "      <th>Upload (Mbit/s)</th>\n",
       "      <th>Units C</th>\n",
       "      <th>Datetime</th>\n",
       "    </tr>\n",
       "  </thead>\n",
       "  <tbody>\n",
       "    <tr>\n",
       "      <th>0</th>\n",
       "      <td>Ping:</td>\n",
       "      <td>26.992</td>\n",
       "      <td>ms</td>\n",
       "      <td>Download:</td>\n",
       "      <td>91.80</td>\n",
       "      <td>Mbit/s</td>\n",
       "      <td>Upload:</td>\n",
       "      <td>14.31</td>\n",
       "      <td>Mbit/s</td>\n",
       "      <td>2016-11-24 13:36:25</td>\n",
       "    </tr>\n",
       "    <tr>\n",
       "      <th>1</th>\n",
       "      <td>Ping:</td>\n",
       "      <td>24.532</td>\n",
       "      <td>ms</td>\n",
       "      <td>Download:</td>\n",
       "      <td>88.19</td>\n",
       "      <td>Mbit/s</td>\n",
       "      <td>Upload:</td>\n",
       "      <td>14.12</td>\n",
       "      <td>Mbit/s</td>\n",
       "      <td>2016-11-24 13:36:55</td>\n",
       "    </tr>\n",
       "    <tr>\n",
       "      <th>2</th>\n",
       "      <td>Ping:</td>\n",
       "      <td>20.225</td>\n",
       "      <td>ms</td>\n",
       "      <td>Download:</td>\n",
       "      <td>59.86</td>\n",
       "      <td>Mbit/s</td>\n",
       "      <td>Upload:</td>\n",
       "      <td>14.11</td>\n",
       "      <td>Mbit/s</td>\n",
       "      <td>2016-11-24 13:37:25</td>\n",
       "    </tr>\n",
       "  </tbody>\n",
       "</table>\n",
       "</div>"
      ]
     },
     "metadata": {},
     "execution_count": 32
    }
   ],
   "metadata": {
    "collapsed": true,
    "scrolled": true
   }
  },
  {
   "cell_type": "markdown",
   "source": [
    "c) Because the Types and Units columns are no longer necessary, these columns can be dropped."
   ],
   "metadata": {}
  },
  {
   "cell_type": "code",
   "execution_count": 33,
   "source": [
    "# Code cell 27\n",
    "df_compact.drop(['Type A', 'Type B', 'Type C',\n",
    "         'Units A', 'Units B', 'Units C'], axis=1, inplace=True)\n",
    "df_compact.head()"
   ],
   "outputs": [
    {
     "output_type": "execute_result",
     "data": {
      "text/plain": [
       "  Ping (ms) Download (Mbit/s)  Upload (Mbit/s)             Datetime\n",
       "0    26.992             91.80            14.31  2016-11-24 13:36:25\n",
       "1    24.532             88.19            14.12  2016-11-24 13:36:55\n",
       "2    20.225             59.86            14.11  2016-11-24 13:37:25\n",
       "3    19.332             91.81            14.22  2016-11-24 13:37:57\n",
       "4    22.494             92.05            14.08  2016-11-24 13:38:27"
      ],
      "text/html": [
       "<div>\n",
       "<style scoped>\n",
       "    .dataframe tbody tr th:only-of-type {\n",
       "        vertical-align: middle;\n",
       "    }\n",
       "\n",
       "    .dataframe tbody tr th {\n",
       "        vertical-align: top;\n",
       "    }\n",
       "\n",
       "    .dataframe thead th {\n",
       "        text-align: right;\n",
       "    }\n",
       "</style>\n",
       "<table border=\"1\" class=\"dataframe\">\n",
       "  <thead>\n",
       "    <tr style=\"text-align: right;\">\n",
       "      <th></th>\n",
       "      <th>Ping (ms)</th>\n",
       "      <th>Download (Mbit/s)</th>\n",
       "      <th>Upload (Mbit/s)</th>\n",
       "      <th>Datetime</th>\n",
       "    </tr>\n",
       "  </thead>\n",
       "  <tbody>\n",
       "    <tr>\n",
       "      <th>0</th>\n",
       "      <td>26.992</td>\n",
       "      <td>91.80</td>\n",
       "      <td>14.31</td>\n",
       "      <td>2016-11-24 13:36:25</td>\n",
       "    </tr>\n",
       "    <tr>\n",
       "      <th>1</th>\n",
       "      <td>24.532</td>\n",
       "      <td>88.19</td>\n",
       "      <td>14.12</td>\n",
       "      <td>2016-11-24 13:36:55</td>\n",
       "    </tr>\n",
       "    <tr>\n",
       "      <th>2</th>\n",
       "      <td>20.225</td>\n",
       "      <td>59.86</td>\n",
       "      <td>14.11</td>\n",
       "      <td>2016-11-24 13:37:25</td>\n",
       "    </tr>\n",
       "    <tr>\n",
       "      <th>3</th>\n",
       "      <td>19.332</td>\n",
       "      <td>91.81</td>\n",
       "      <td>14.22</td>\n",
       "      <td>2016-11-24 13:37:57</td>\n",
       "    </tr>\n",
       "    <tr>\n",
       "      <th>4</th>\n",
       "      <td>22.494</td>\n",
       "      <td>92.05</td>\n",
       "      <td>14.08</td>\n",
       "      <td>2016-11-24 13:38:27</td>\n",
       "    </tr>\n",
       "  </tbody>\n",
       "</table>\n",
       "</div>"
      ]
     },
     "metadata": {},
     "execution_count": 33
    }
   ],
   "metadata": {
    "collapsed": true
   }
  },
  {
   "cell_type": "markdown",
   "source": [
    "In the table above, the `Datetime` field is a string. Pandas and Python offer a number of operations to work with date and time that can be very helpful.\n",
    "\n",
    "In the next step, the string in the `Datetime` column will be separated into two new columns.\n",
    "\n",
    "#### Step 4: Separate data into two columns.\n",
    "In this step, you will use Pandas to generate the columns `Date` and `Time` from the column `Datetime` and then drop the `Datetime` column.\n",
    "<p>The `lambda` function is used create two anonymous functions that extract only the date and the time from a `datetime` object, respectively. Then, use the `pandas` function `apply` to apply this function to an entire column (in practice, `apply` implicitly defines a `for` loop and passes the rows one by one to our `lambda` function). Store the result of the `apply` functions in two new columns of the `DataFrame`."
   ],
   "metadata": {}
  },
  {
   "cell_type": "markdown",
   "source": [
    "a) Apply the `lambda` function to iterate through the data frame to split the date from the `Datetime` column."
   ],
   "metadata": {}
  },
  {
   "cell_type": "code",
   "execution_count": 34,
   "source": [
    "# Code cell 28\n",
    "df_compact['Date'] = df_compact['Datetime'].apply(lambda dt_str: pd.to_datetime(dt_str).date())"
   ],
   "outputs": [],
   "metadata": {
    "collapsed": true
   }
  },
  {
   "cell_type": "markdown",
   "source": [
    "b) Repeat step a to split time from `Datetime` column. "
   ],
   "metadata": {}
  },
  {
   "cell_type": "code",
   "execution_count": 35,
   "source": [
    "# Code cell 29\n",
    "# Please note, this requires an intermediate step, because of how NaT are treated by the time() function.\n",
    "# Reference: https://github.com/pandas-dev/pandas/issues/11453\n",
    "temp = df_compact['Datetime'].apply(lambda dt_str: pd.to_datetime(dt_str))\n",
    "df_compact['Time'] = temp.dt.time"
   ],
   "outputs": [],
   "metadata": {
    "collapsed": true
   }
  },
  {
   "cell_type": "markdown",
   "source": [
    "c) All the information for the `Datetime` column has now been copied to the `Date` and `Time` columnns. The `Datetime` column serves no purpose. The `Datetime` column can be dropped from the data frame.\n",
    "<p>Enter the code to drop the `Datetime` column in the cell below."
   ],
   "metadata": {}
  },
  {
   "cell_type": "code",
   "execution_count": 37,
   "source": [
    "# Code cell 30\n",
    "df_compact.drop(['Datetime'], axis=1, inplace=True)\n"
   ],
   "outputs": [],
   "metadata": {
    "collapsed": true
   }
  },
  {
   "cell_type": "markdown",
   "source": [
    "Enter the code to print out the first 3 rows of the data frame to verify the changes."
   ],
   "metadata": {}
  },
  {
   "cell_type": "code",
   "execution_count": 38,
   "source": [
    "# Code cell 31\n",
    "df_compact.head(3)"
   ],
   "outputs": [
    {
     "output_type": "execute_result",
     "data": {
      "text/plain": [
       "  Ping (ms) Download (Mbit/s)  Upload (Mbit/s)        Date      Time\n",
       "0    26.992             91.80            14.31  2016-11-24  13:36:25\n",
       "1    24.532             88.19            14.12  2016-11-24  13:36:55\n",
       "2    20.225             59.86            14.11  2016-11-24  13:37:25"
      ],
      "text/html": [
       "<div>\n",
       "<style scoped>\n",
       "    .dataframe tbody tr th:only-of-type {\n",
       "        vertical-align: middle;\n",
       "    }\n",
       "\n",
       "    .dataframe tbody tr th {\n",
       "        vertical-align: top;\n",
       "    }\n",
       "\n",
       "    .dataframe thead th {\n",
       "        text-align: right;\n",
       "    }\n",
       "</style>\n",
       "<table border=\"1\" class=\"dataframe\">\n",
       "  <thead>\n",
       "    <tr style=\"text-align: right;\">\n",
       "      <th></th>\n",
       "      <th>Ping (ms)</th>\n",
       "      <th>Download (Mbit/s)</th>\n",
       "      <th>Upload (Mbit/s)</th>\n",
       "      <th>Date</th>\n",
       "      <th>Time</th>\n",
       "    </tr>\n",
       "  </thead>\n",
       "  <tbody>\n",
       "    <tr>\n",
       "      <th>0</th>\n",
       "      <td>26.992</td>\n",
       "      <td>91.80</td>\n",
       "      <td>14.31</td>\n",
       "      <td>2016-11-24</td>\n",
       "      <td>13:36:25</td>\n",
       "    </tr>\n",
       "    <tr>\n",
       "      <th>1</th>\n",
       "      <td>24.532</td>\n",
       "      <td>88.19</td>\n",
       "      <td>14.12</td>\n",
       "      <td>2016-11-24</td>\n",
       "      <td>13:36:55</td>\n",
       "    </tr>\n",
       "    <tr>\n",
       "      <th>2</th>\n",
       "      <td>20.225</td>\n",
       "      <td>59.86</td>\n",
       "      <td>14.11</td>\n",
       "      <td>2016-11-24</td>\n",
       "      <td>13:37:25</td>\n",
       "    </tr>\n",
       "  </tbody>\n",
       "</table>\n",
       "</div>"
      ]
     },
     "metadata": {},
     "execution_count": 38
    }
   ],
   "metadata": {
    "collapsed": true
   }
  },
  {
   "cell_type": "markdown",
   "source": [
    "d) Use the `type` function to print out the variable type of the values in the `Date` and `Time` columns."
   ],
   "metadata": {}
  },
  {
   "cell_type": "code",
   "execution_count": 39,
   "source": [
    "# Code cell 32\n",
    "print(df_compact['Date'][0], type(df_compact['Date'][0]) )\n",
    "print(df_compact['Time'][0], type(df_compact['Time'][0]) )"
   ],
   "outputs": [
    {
     "output_type": "stream",
     "name": "stdout",
     "text": [
      "2016-11-24 <class 'datetime.date'>\n",
      "13:36:25 <class 'datetime.time'>\n"
     ]
    }
   ],
   "metadata": {
    "collapsed": true
   }
  },
  {
   "cell_type": "markdown",
   "source": [
    "#### Step 5: Save the new data frame.\n",
    "Save the pandas dataframe `df_compact` as a csv file called `rpi_data_compact`:"
   ],
   "metadata": {}
  },
  {
   "cell_type": "code",
   "execution_count": 40,
   "source": [
    "# Code cell 33\n",
    "df_compact.to_csv('./Data/rpi_data_compact.csv')"
   ],
   "outputs": [],
   "metadata": {
    "collapsed": true
   }
  },
  {
   "cell_type": "markdown",
   "source": [
    "<font size='0.5'>&copy; 2017 Cisco and/or its affiliates. All rights reserved. This document is Cisco Public.<font>"
   ],
   "metadata": {}
  }
 ],
 "metadata": {
  "anaconda-cloud": {},
  "kernelspec": {
   "name": "python3",
   "display_name": "Python 3.8.10 64-bit"
  },
  "language_info": {
   "codemirror_mode": {
    "name": "ipython",
    "version": 3
   },
   "file_extension": ".py",
   "mimetype": "text/x-python",
   "name": "python",
   "nbconvert_exporter": "python",
   "pygments_lexer": "ipython3",
   "version": "3.8.10"
  },
  "interpreter": {
   "hash": "916dbcbb3f70747c44a77c7bcd40155683ae19c65e1c03b4aa3499c5328201f1"
  }
 },
 "nbformat": 4,
 "nbformat_minor": 1
}