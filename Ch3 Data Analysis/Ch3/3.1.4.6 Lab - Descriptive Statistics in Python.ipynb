{
 "cells": [
  {
   "cell_type": "markdown",
   "source": [
    "![Title](Images/cisco.png)"
   ],
   "metadata": {}
  },
  {
   "cell_type": "markdown",
   "source": [
    "# Lab - Descriptive Statistics in Python \n"
   ],
   "metadata": {}
  },
  {
   "cell_type": "markdown",
   "source": [
    "### Objectives\n",
    "<p>\n",
    "<li>**Part 1: Analyzing the Data**</li>\n",
    "<li>**Part 2: Visualizing the Data**</li>\n",
    "</p>\n",
    "### Scenario/Background\n",
    "\n",
    "In this lab, you will import a data set into a pandas frame and generate descriptive statistics from the data. You will format text strings report the descriptive statistics and generate a plot of the data. Finally, you will experiment with parameters of the graph to become familiar with plotting data using the `matplotlib.pyplot` libary.\n",
    "\n",
    "### Required Resources\n",
    "\n",
    "* Raspberry Pi version 2 or higher\n",
    "* 1 PC with network access for connection Raspberry Pi\n",
    "* Python libraries: pandas and matplotlib.pyplot\n",
    "* Datafiles: rpi_describe.csv"
   ],
   "metadata": {}
  },
  {
   "cell_type": "markdown",
   "source": [
    "## Part 1: Analyzing the Data\n",
    "\n",
    "The goal of the first part of the lab is to use pandas methods to import a dataset and generate the following descriptive statistics:\n",
    "\n",
    "1. sample size\n",
    "2. mean\n",
    "3. median\n",
    "4. standard deviation\n",
    "5. minimum, maximum, and range of values"
   ],
   "metadata": {}
  },
  {
   "cell_type": "markdown",
   "source": [
    "#### Step 1: Setup the environment and import data.\n",
    "\n",
    "First, you will import the modules and set up the enivronment to display `matplotlib` output to the notebook page. You will use `panda`s to import data from a csv file into a dataframe. You will be working with a file that contains quality control samples for a 20-ounce boxes of a food product. The data is used to check the accurracy of the machines that load the boxes."
   ],
   "metadata": {}
  },
  {
   "cell_type": "markdown",
   "source": [
    "a) Import modules and set up the environment."
   ],
   "metadata": {}
  },
  {
   "cell_type": "code",
   "execution_count": 1,
   "source": [
    "# Code cell 1\n",
    "# pandas pd\n",
    "# matplotlib.pyplot as plt\n",
    "import pandas as pd\n",
    "import matplotlib.pyplot as plt\n",
    "\n",
    "# matplotlib.use('qt5agg')\n",
    "\n",
    "# given\n",
    "%matplotlib inline\n",
    "# import matplotlib\n",
    " # required on some Jupyter Notebook installations"
   ],
   "outputs": [],
   "metadata": {
    "collapsed": true
   }
  },
  {
   "cell_type": "markdown",
   "source": [
    "b) Import the data from the `rpi_describe.csv` file using the pandas read_csv method. Use \"data\" as the name of the dataframe."
   ],
   "metadata": {}
  },
  {
   "cell_type": "code",
   "execution_count": 2,
   "source": [
    "# Code cell 2\n",
    "# import the csv into the dataframe\n",
    "data = pd.read_csv('./Data/rpi_describe.csv')\n"
   ],
   "outputs": [],
   "metadata": {
    "collapsed": true
   }
  },
  {
   "cell_type": "markdown",
   "source": [
    "c) Check that the file imported properly by using the pandas `head` and `tail` methods for the dataframe."
   ],
   "metadata": {}
  },
  {
   "cell_type": "code",
   "execution_count": 3,
   "source": [
    "# Code cell 3\n",
    "# view the contents of the first five rows in the dataframe\n",
    "data.head()\n"
   ],
   "outputs": [
    {
     "output_type": "execute_result",
     "data": {
      "text/plain": [
       "   weight\n",
       "0  20.440\n",
       "1  20.244\n",
       "2  20.549\n",
       "3  20.755\n",
       "4  20.740"
      ],
      "text/html": [
       "<div>\n",
       "<style scoped>\n",
       "    .dataframe tbody tr th:only-of-type {\n",
       "        vertical-align: middle;\n",
       "    }\n",
       "\n",
       "    .dataframe tbody tr th {\n",
       "        vertical-align: top;\n",
       "    }\n",
       "\n",
       "    .dataframe thead th {\n",
       "        text-align: right;\n",
       "    }\n",
       "</style>\n",
       "<table border=\"1\" class=\"dataframe\">\n",
       "  <thead>\n",
       "    <tr style=\"text-align: right;\">\n",
       "      <th></th>\n",
       "      <th>weight</th>\n",
       "    </tr>\n",
       "  </thead>\n",
       "  <tbody>\n",
       "    <tr>\n",
       "      <th>0</th>\n",
       "      <td>20.440</td>\n",
       "    </tr>\n",
       "    <tr>\n",
       "      <th>1</th>\n",
       "      <td>20.244</td>\n",
       "    </tr>\n",
       "    <tr>\n",
       "      <th>2</th>\n",
       "      <td>20.549</td>\n",
       "    </tr>\n",
       "    <tr>\n",
       "      <th>3</th>\n",
       "      <td>20.755</td>\n",
       "    </tr>\n",
       "    <tr>\n",
       "      <th>4</th>\n",
       "      <td>20.740</td>\n",
       "    </tr>\n",
       "  </tbody>\n",
       "</table>\n",
       "</div>"
      ]
     },
     "metadata": {},
     "execution_count": 3
    }
   ],
   "metadata": {
    "collapsed": true
   }
  },
  {
   "cell_type": "code",
   "execution_count": 5,
   "source": [
    "# Code cell 4\n",
    "# view the contents of the last five rows in the dataframe\n",
    "data.tail()\n"
   ],
   "outputs": [
    {
     "output_type": "execute_result",
     "data": {
      "text/plain": [
       "      weight\n",
       "9995  20.419\n",
       "9996  20.554\n",
       "9997  20.768\n",
       "9998  20.829\n",
       "9999  20.667"
      ],
      "text/html": [
       "<div>\n",
       "<style scoped>\n",
       "    .dataframe tbody tr th:only-of-type {\n",
       "        vertical-align: middle;\n",
       "    }\n",
       "\n",
       "    .dataframe tbody tr th {\n",
       "        vertical-align: top;\n",
       "    }\n",
       "\n",
       "    .dataframe thead th {\n",
       "        text-align: right;\n",
       "    }\n",
       "</style>\n",
       "<table border=\"1\" class=\"dataframe\">\n",
       "  <thead>\n",
       "    <tr style=\"text-align: right;\">\n",
       "      <th></th>\n",
       "      <th>weight</th>\n",
       "    </tr>\n",
       "  </thead>\n",
       "  <tbody>\n",
       "    <tr>\n",
       "      <th>9995</th>\n",
       "      <td>20.419</td>\n",
       "    </tr>\n",
       "    <tr>\n",
       "      <th>9996</th>\n",
       "      <td>20.554</td>\n",
       "    </tr>\n",
       "    <tr>\n",
       "      <th>9997</th>\n",
       "      <td>20.768</td>\n",
       "    </tr>\n",
       "    <tr>\n",
       "      <th>9998</th>\n",
       "      <td>20.829</td>\n",
       "    </tr>\n",
       "    <tr>\n",
       "      <th>9999</th>\n",
       "      <td>20.667</td>\n",
       "    </tr>\n",
       "  </tbody>\n",
       "</table>\n",
       "</div>"
      ]
     },
     "metadata": {},
     "execution_count": 5
    }
   ],
   "metadata": {
    "collapsed": true
   }
  },
  {
   "cell_type": "markdown",
   "source": [
    "From the output of the tail method, you will notice that there are 10,000 rows of data in the file. Although it is only one column, pandas handles this file very efficiently."
   ],
   "metadata": {}
  },
  {
   "cell_type": "markdown",
   "source": [
    "#### Step 2: Use pandas to view a table of descriptive statistics for the file.\n",
    "\n",
    "pandas includes a number of powerful methods for displaying basic statistics on a dataset."
   ],
   "metadata": {}
  },
  {
   "cell_type": "markdown",
   "source": [
    "a) The `dataframe.describe()` method displays statistics for the datraframe."
   ],
   "metadata": {}
  },
  {
   "cell_type": "code",
   "execution_count": 6,
   "source": [
    "# Code cell 5\n",
    "# use the describe method of the new dataframe to view the table of statistics\n",
    "data.describe()\n"
   ],
   "outputs": [
    {
     "output_type": "execute_result",
     "data": {
      "text/plain": [
       "             weight\n",
       "count  10000.000000\n",
       "mean      20.499212\n",
       "std        0.199874\n",
       "min       19.752000\n",
       "25%       20.365000\n",
       "50%       20.500000\n",
       "75%       20.635000\n",
       "max       21.171000"
      ],
      "text/html": [
       "<div>\n",
       "<style scoped>\n",
       "    .dataframe tbody tr th:only-of-type {\n",
       "        vertical-align: middle;\n",
       "    }\n",
       "\n",
       "    .dataframe tbody tr th {\n",
       "        vertical-align: top;\n",
       "    }\n",
       "\n",
       "    .dataframe thead th {\n",
       "        text-align: right;\n",
       "    }\n",
       "</style>\n",
       "<table border=\"1\" class=\"dataframe\">\n",
       "  <thead>\n",
       "    <tr style=\"text-align: right;\">\n",
       "      <th></th>\n",
       "      <th>weight</th>\n",
       "    </tr>\n",
       "  </thead>\n",
       "  <tbody>\n",
       "    <tr>\n",
       "      <th>count</th>\n",
       "      <td>10000.000000</td>\n",
       "    </tr>\n",
       "    <tr>\n",
       "      <th>mean</th>\n",
       "      <td>20.499212</td>\n",
       "    </tr>\n",
       "    <tr>\n",
       "      <th>std</th>\n",
       "      <td>0.199874</td>\n",
       "    </tr>\n",
       "    <tr>\n",
       "      <th>min</th>\n",
       "      <td>19.752000</td>\n",
       "    </tr>\n",
       "    <tr>\n",
       "      <th>25%</th>\n",
       "      <td>20.365000</td>\n",
       "    </tr>\n",
       "    <tr>\n",
       "      <th>50%</th>\n",
       "      <td>20.500000</td>\n",
       "    </tr>\n",
       "    <tr>\n",
       "      <th>75%</th>\n",
       "      <td>20.635000</td>\n",
       "    </tr>\n",
       "    <tr>\n",
       "      <th>max</th>\n",
       "      <td>21.171000</td>\n",
       "    </tr>\n",
       "  </tbody>\n",
       "</table>\n",
       "</div>"
      ]
     },
     "metadata": {},
     "execution_count": 6
    }
   ],
   "metadata": {
    "collapsed": true
   }
  },
  {
   "cell_type": "markdown",
   "source": [
    "b) To work with rounded values for the weights in the datset, you can add a new column to the data for the rounded values. In pandas, columns are accessed by their headings. To create a new column, the name of the new column is used, in quotes, in square brackets as an index for the dataframe. The `round()` method is used to round the values in the weight column to populate a new column with the rounded values."
   ],
   "metadata": {}
  },
  {
   "cell_type": "code",
   "execution_count": 7,
   "source": [
    "# Code cell 6\n",
    "# Add a new column to the dataframe and populate it with rounded weights.\n",
    "# data['rounded] = data['?'].?(?)\n",
    "data['rounded'] = data['weight'].apply(lambda x: round(x,2))\n",
    "\n",
    "# Verify that values were added.\n",
    "# ...\n",
    "data.head()"
   ],
   "outputs": [
    {
     "output_type": "execute_result",
     "data": {
      "text/plain": [
       "   weight  rounded\n",
       "0  20.440    20.44\n",
       "1  20.244    20.24\n",
       "2  20.549    20.55\n",
       "3  20.755    20.75\n",
       "4  20.740    20.74"
      ],
      "text/html": [
       "<div>\n",
       "<style scoped>\n",
       "    .dataframe tbody tr th:only-of-type {\n",
       "        vertical-align: middle;\n",
       "    }\n",
       "\n",
       "    .dataframe tbody tr th {\n",
       "        vertical-align: top;\n",
       "    }\n",
       "\n",
       "    .dataframe thead th {\n",
       "        text-align: right;\n",
       "    }\n",
       "</style>\n",
       "<table border=\"1\" class=\"dataframe\">\n",
       "  <thead>\n",
       "    <tr style=\"text-align: right;\">\n",
       "      <th></th>\n",
       "      <th>weight</th>\n",
       "      <th>rounded</th>\n",
       "    </tr>\n",
       "  </thead>\n",
       "  <tbody>\n",
       "    <tr>\n",
       "      <th>0</th>\n",
       "      <td>20.440</td>\n",
       "      <td>20.44</td>\n",
       "    </tr>\n",
       "    <tr>\n",
       "      <th>1</th>\n",
       "      <td>20.244</td>\n",
       "      <td>20.24</td>\n",
       "    </tr>\n",
       "    <tr>\n",
       "      <th>2</th>\n",
       "      <td>20.549</td>\n",
       "      <td>20.55</td>\n",
       "    </tr>\n",
       "    <tr>\n",
       "      <th>3</th>\n",
       "      <td>20.755</td>\n",
       "      <td>20.75</td>\n",
       "    </tr>\n",
       "    <tr>\n",
       "      <th>4</th>\n",
       "      <td>20.740</td>\n",
       "      <td>20.74</td>\n",
       "    </tr>\n",
       "  </tbody>\n",
       "</table>\n",
       "</div>"
      ]
     },
     "metadata": {},
     "execution_count": 7
    }
   ],
   "metadata": {
    "collapsed": true
   }
  },
  {
   "cell_type": "markdown",
   "source": [
    "c) It is possible to fill a column with calculated values as well. For example, \n",
    "\n",
    "<pre><code>dataframe['c'] = dataframe['a'] - dataframe['b']</code></pre>\n",
    "\n",
    "will result in the creation of column c in the dataframe and populate it with the difference between the numeric values in column a and b.\n",
    "\n",
    "Create a new column in the dataframe called \"diff\" and populate that column with the amount of weight over or under the target value of 20 ounces. Use the rounded value for the calculation."
   ],
   "metadata": {}
  },
  {
   "cell_type": "code",
   "execution_count": 8,
   "source": [
    "# Code cell 7\n",
    "# Create the new column named \"diff\" and fill it with values.\n",
    "#data['diff'] = ???\n",
    "data['diff'] = data['rounded'] - 20\n",
    "# Check the result.\n",
    "data.head()\n"
   ],
   "outputs": [
    {
     "output_type": "execute_result",
     "data": {
      "text/plain": [
       "   weight  rounded  diff\n",
       "0  20.440    20.44  0.44\n",
       "1  20.244    20.24  0.24\n",
       "2  20.549    20.55  0.55\n",
       "3  20.755    20.75  0.75\n",
       "4  20.740    20.74  0.74"
      ],
      "text/html": [
       "<div>\n",
       "<style scoped>\n",
       "    .dataframe tbody tr th:only-of-type {\n",
       "        vertical-align: middle;\n",
       "    }\n",
       "\n",
       "    .dataframe tbody tr th {\n",
       "        vertical-align: top;\n",
       "    }\n",
       "\n",
       "    .dataframe thead th {\n",
       "        text-align: right;\n",
       "    }\n",
       "</style>\n",
       "<table border=\"1\" class=\"dataframe\">\n",
       "  <thead>\n",
       "    <tr style=\"text-align: right;\">\n",
       "      <th></th>\n",
       "      <th>weight</th>\n",
       "      <th>rounded</th>\n",
       "      <th>diff</th>\n",
       "    </tr>\n",
       "  </thead>\n",
       "  <tbody>\n",
       "    <tr>\n",
       "      <th>0</th>\n",
       "      <td>20.440</td>\n",
       "      <td>20.44</td>\n",
       "      <td>0.44</td>\n",
       "    </tr>\n",
       "    <tr>\n",
       "      <th>1</th>\n",
       "      <td>20.244</td>\n",
       "      <td>20.24</td>\n",
       "      <td>0.24</td>\n",
       "    </tr>\n",
       "    <tr>\n",
       "      <th>2</th>\n",
       "      <td>20.549</td>\n",
       "      <td>20.55</td>\n",
       "      <td>0.55</td>\n",
       "    </tr>\n",
       "    <tr>\n",
       "      <th>3</th>\n",
       "      <td>20.755</td>\n",
       "      <td>20.75</td>\n",
       "      <td>0.75</td>\n",
       "    </tr>\n",
       "    <tr>\n",
       "      <th>4</th>\n",
       "      <td>20.740</td>\n",
       "      <td>20.74</td>\n",
       "      <td>0.74</td>\n",
       "    </tr>\n",
       "  </tbody>\n",
       "</table>\n",
       "</div>"
      ]
     },
     "metadata": {},
     "execution_count": 8
    }
   ],
   "metadata": {
    "collapsed": true
   }
  },
  {
   "cell_type": "markdown",
   "source": [
    "#### Step 3: Display Descriptive Statistics in Text\n",
    "\n",
    "In this step you will create variables to hold a series of descriptive statistics and then construct strings to display the values. You will use the following:\n",
    "\n",
    "* `count()` \n",
    "* `mean()`\n",
    "* `median()`\n",
    "* `std()`\n",
    "* `min()`\n",
    "* `max()`"
   ],
   "metadata": {}
  },
  {
   "cell_type": "markdown",
   "source": [
    "a) Use the values in the rounded column of the dataframe. Create a variable for each statistic and calculate the range of values using `min()` and `max()` to compute the range of values."
   ],
   "metadata": {}
  },
  {
   "cell_type": "code",
   "execution_count": 11,
   "source": [
    "# Code cell 8\n",
    "# Create a variables to hold values for the dataset rounded column \n",
    "count = data['rounded'].count() \n",
    "mean = data['rounded'].mean()\n",
    "median = data['rounded'].median()\n",
    "std = data['rounded'].std()\n",
    "rng = data['rounded'].max()-data['rounded'].min()\n"
   ],
   "outputs": [],
   "metadata": {
    "collapsed": true
   }
  },
  {
   "cell_type": "markdown",
   "source": [
    "b) To construct strings that use text and variables to report on the statistics for the data set, use `format()` string method to make it easier to insert the variable values into the strings. Format uses `{}` placeholders to indicate where the variables values should be inserted.\n",
    "\n",
    "Construct sentences such as 'The mean of the distribution is...' for each created variable. For the last statement, include the `min()`, `max()`, and range values in the same sentences to practice using multiple placeholders. You can combine other variables in the same sentence as well."
   ],
   "metadata": {}
  },
  {
   "cell_type": "code",
   "execution_count": 12,
   "source": [
    "# Code cell 9\n",
    "# Create variables to hold your statements.\n",
    "countstring = \"The count of the distribution is {0}\".format(count)\n",
    "meanstring = \"The mean of the distribution is  {:.2f}\".format(mean)\n",
    "stdstring = \"The standard deviation of the distribution is {:.2f}\".format(std)\n",
    "rangestring = \"The range of the distribution is {:.2}\".format(rng)\n",
    "\n"
   ],
   "outputs": [],
   "metadata": {
    "collapsed": true
   }
  },
  {
   "cell_type": "markdown",
   "source": [
    "c) Use the `print` function to output all of your statements."
   ],
   "metadata": {}
  },
  {
   "cell_type": "code",
   "execution_count": 14,
   "source": [
    "# Code cell 10\n",
    "# Print all of your statements\n",
    "print(countstring)\n",
    "print(meanstring)\n",
    "print(stdstring)\n",
    "print(rangestring)"
   ],
   "outputs": [
    {
     "output_type": "stream",
     "name": "stdout",
     "text": [
      "The count of the distribution is 10000\n",
      "The mean of the distribution is  20.50\n",
      "The standard deviation of the distribution is 0.20\n",
      "The range of the distribution is 1.4\n"
     ]
    }
   ],
   "metadata": {
    "collapsed": true
   }
  },
  {
   "cell_type": "markdown",
   "source": [
    "Look at the output for standard deviation. You can format the number so it is easier to understand the results. For example, you can change the output of the standard deviation to display only first 2 digitals after the decimal point.\n",
    "\n",
    "Python document for formatting the strings:\n",
    "\n",
    "https://docs.python.org/2/library/string.html\n",
    "\n",
    "This link provides some formatting examples:\n",
    "\n",
    "https://mkaz.tech/code/python-string-format.html"
   ],
   "metadata": {}
  },
  {
   "cell_type": "code",
   "execution_count": 15,
   "source": [
    "# Code cell 11\n",
    "\n",
    "# Format the standard deviation result to 2 decimal points\n",
    "count = data.rounded.count()\n",
    "stdstring = 'The standard deviation of the distribution is {:.2f}.'.format(std)\n",
    "print(stdstring)"
   ],
   "outputs": [
    {
     "output_type": "stream",
     "name": "stdout",
     "text": [
      "The standard deviation of the distribution is 0.20.\n"
     ]
    }
   ],
   "metadata": {
    "collapsed": true
   }
  },
  {
   "cell_type": "markdown",
   "source": [
    "## Part 2: Visualizing the Data\n",
    "\n",
    "In this part of the lab, you will create a frequencey distribution for each unique value in the dataset."
   ],
   "metadata": {}
  },
  {
   "cell_type": "markdown",
   "source": [
    "#### Step 1: Create a dataframe that contains the frequence counts for the dataset.\n",
    "\n",
    "a) Create a new dataframe to contain frequency counts using the `value_counts()` method. This method creates a series object, not a dataframe. The index column of this series is given by the unique values of the series, with the column name set automatically to 0. To convert a series in a DataFrame, you can use the `to_frame()` function. Additionally calling the `reset_index()` method on the resulting `DataFrame` will transform the previous index column into a new data column, whose name is automatically set to `index`. You will rename the columns later.\n",
    "\n",
    "\n",
    "\n",
    "</font>You will use the `to_frame()` with the `reset_index()` methods to create a pandas dataframe from the series object. \n",
    "\n",
    "You will use the rounded column from the data dataframe with the `value_counts()` method. Example:\n",
    "\n",
    "<pre><code>variable = dataframe['columnName'].value_counts()</code></pre>"
   ],
   "metadata": {}
  },
  {
   "cell_type": "code",
   "execution_count": 16,
   "source": [
    "# Code cell 12\n",
    "# Create a variable called 'freq' to hold the weight values and their frequencies\n",
    "freq = data['rounded'].value_counts()\n",
    "\n",
    "# Convert the freq object to a data frame. Use to_frame().\n",
    "freq = freq.to_frame().reset_index()\n"
   ],
   "outputs": [],
   "metadata": {
    "collapsed": true
   }
  },
  {
   "cell_type": "markdown",
   "source": [
    "b) Use the `type()` function with variable name as an argument to verify that `freq` is not a dataframe object."
   ],
   "metadata": {}
  },
  {
   "cell_type": "code",
   "execution_count": 17,
   "source": [
    "# Code cell 13\n",
    "# Verify the type of the freq object.\n",
    "type(freq)\n",
    "freq.head()\n"
   ],
   "outputs": [
    {
     "output_type": "execute_result",
     "data": {
      "text/plain": [
       "   index  rounded\n",
       "0  20.45      239\n",
       "1  20.43      230\n",
       "2  20.48      228\n",
       "3  20.50      226\n",
       "4  20.55      225"
      ],
      "text/html": [
       "<div>\n",
       "<style scoped>\n",
       "    .dataframe tbody tr th:only-of-type {\n",
       "        vertical-align: middle;\n",
       "    }\n",
       "\n",
       "    .dataframe tbody tr th {\n",
       "        vertical-align: top;\n",
       "    }\n",
       "\n",
       "    .dataframe thead th {\n",
       "        text-align: right;\n",
       "    }\n",
       "</style>\n",
       "<table border=\"1\" class=\"dataframe\">\n",
       "  <thead>\n",
       "    <tr style=\"text-align: right;\">\n",
       "      <th></th>\n",
       "      <th>index</th>\n",
       "      <th>rounded</th>\n",
       "    </tr>\n",
       "  </thead>\n",
       "  <tbody>\n",
       "    <tr>\n",
       "      <th>0</th>\n",
       "      <td>20.45</td>\n",
       "      <td>239</td>\n",
       "    </tr>\n",
       "    <tr>\n",
       "      <th>1</th>\n",
       "      <td>20.43</td>\n",
       "      <td>230</td>\n",
       "    </tr>\n",
       "    <tr>\n",
       "      <th>2</th>\n",
       "      <td>20.48</td>\n",
       "      <td>228</td>\n",
       "    </tr>\n",
       "    <tr>\n",
       "      <th>3</th>\n",
       "      <td>20.50</td>\n",
       "      <td>226</td>\n",
       "    </tr>\n",
       "    <tr>\n",
       "      <th>4</th>\n",
       "      <td>20.55</td>\n",
       "      <td>225</td>\n",
       "    </tr>\n",
       "  </tbody>\n",
       "</table>\n",
       "</div>"
      ]
     },
     "metadata": {},
     "execution_count": 17
    }
   ],
   "metadata": {
    "collapsed": true
   }
  },
  {
   "cell_type": "markdown",
   "source": [
    "c) Use `head` to look at the new dataframe. The columns in the data frame are not named clearly. Rename them to \"value\" and \"freq\" using the columns attribute of the dataframe. Example:\n",
    "<pre><code>dataframe.columns = ['column1','column2']</code></pre>"
   ],
   "metadata": {}
  },
  {
   "cell_type": "code",
   "execution_count": 19,
   "source": [
    "# Code cell 14\n",
    "# Rename the columns in the dataframe. \n",
    "freq.columns = ['value', 'freq']\n",
    "# Verify the result.\n",
    "freq.head()\n"
   ],
   "outputs": [
    {
     "output_type": "execute_result",
     "data": {
      "text/plain": [
       "   value  freq\n",
       "0  20.45   239\n",
       "1  20.43   230\n",
       "2  20.48   228\n",
       "3  20.50   226\n",
       "4  20.55   225"
      ],
      "text/html": [
       "<div>\n",
       "<style scoped>\n",
       "    .dataframe tbody tr th:only-of-type {\n",
       "        vertical-align: middle;\n",
       "    }\n",
       "\n",
       "    .dataframe tbody tr th {\n",
       "        vertical-align: top;\n",
       "    }\n",
       "\n",
       "    .dataframe thead th {\n",
       "        text-align: right;\n",
       "    }\n",
       "</style>\n",
       "<table border=\"1\" class=\"dataframe\">\n",
       "  <thead>\n",
       "    <tr style=\"text-align: right;\">\n",
       "      <th></th>\n",
       "      <th>value</th>\n",
       "      <th>freq</th>\n",
       "    </tr>\n",
       "  </thead>\n",
       "  <tbody>\n",
       "    <tr>\n",
       "      <th>0</th>\n",
       "      <td>20.45</td>\n",
       "      <td>239</td>\n",
       "    </tr>\n",
       "    <tr>\n",
       "      <th>1</th>\n",
       "      <td>20.43</td>\n",
       "      <td>230</td>\n",
       "    </tr>\n",
       "    <tr>\n",
       "      <th>2</th>\n",
       "      <td>20.48</td>\n",
       "      <td>228</td>\n",
       "    </tr>\n",
       "    <tr>\n",
       "      <th>3</th>\n",
       "      <td>20.50</td>\n",
       "      <td>226</td>\n",
       "    </tr>\n",
       "    <tr>\n",
       "      <th>4</th>\n",
       "      <td>20.55</td>\n",
       "      <td>225</td>\n",
       "    </tr>\n",
       "  </tbody>\n",
       "</table>\n",
       "</div>"
      ]
     },
     "metadata": {},
     "execution_count": 19
    }
   ],
   "metadata": {
    "collapsed": true
   }
  },
  {
   "cell_type": "markdown",
   "source": [
    "#### Step 2: Plot a graph of the frequency distribution.\n",
    "\n",
    "a) The `matplotlib.pyplot` module was imported as plt earlier in the lab. The methods from the module is used to format and display a scatter plot of the frequency data for a dataset."
   ],
   "metadata": {}
  },
  {
   "cell_type": "code",
   "execution_count": 20,
   "source": [
    "# Code cell 15\n",
    "\n",
    "# Set a size for the graph\n",
    "plt.figure(figsize=(20,10))\n",
    "\n",
    "# Add axis labels\n",
    "plt.ylabel('Frequency')\n",
    "plt.xlabel('Weight')\n",
    "\n",
    "# Plot the graph using a round symbol \"o\" of size 10\n",
    "plt.plot(freq.value,freq.freq, \"o\", markersize = 10, color = 'g')"
   ],
   "outputs": [
    {
     "output_type": "execute_result",
     "data": {
      "text/plain": [
       "[<matplotlib.lines.Line2D at 0x7f44f0a5fca0>]"
      ]
     },
     "metadata": {},
     "execution_count": 20
    },
    {
     "output_type": "display_data",
     "data": {
      "text/plain": [
       "<Figure size 1440x720 with 1 Axes>"
      ],
      "image/svg+xml": "<?xml version=\"1.0\" encoding=\"utf-8\" standalone=\"no\"?>\n<!DOCTYPE svg PUBLIC \"-//W3C//DTD SVG 1.1//EN\"\n  \"http://www.w3.org/Graphics/SVG/1.1/DTD/svg11.dtd\">\n<svg height=\"590.286714pt\" version=\"1.1\" viewBox=\"0 0 1170.165625 590.286714\" width=\"1170.165625pt\" xmlns=\"http://www.w3.org/2000/svg\" xmlns:xlink=\"http://www.w3.org/1999/xlink\">\n <metadata>\n  <rdf:RDF xmlns:cc=\"http://creativecommons.org/ns#\" xmlns:dc=\"http://purl.org/dc/elements/1.1/\" xmlns:rdf=\"http://www.w3.org/1999/02/22-rdf-syntax-ns#\">\n   <cc:Work>\n    <dc:type rdf:resource=\"http://purl.org/dc/dcmitype/StillImage\"/>\n    <dc:date>2021-10-28T12:14:14.792030</dc:date>\n    <dc:format>image/svg+xml</dc:format>\n    <dc:creator>\n     <cc:Agent>\n      <dc:title>Matplotlib v3.4.3, https://matplotlib.org/</dc:title>\n     </cc:Agent>\n    </dc:creator>\n   </cc:Work>\n  </rdf:RDF>\n </metadata>\n <defs>\n  <style type=\"text/css\">*{stroke-linecap:butt;stroke-linejoin:round;}</style>\n </defs>\n <g id=\"figure_1\">\n  <g id=\"patch_1\">\n   <path d=\"M 0 590.286714 \nL 1170.165625 590.286714 \nL 1170.165625 0 \nL 0 0 \nz\n\" style=\"fill:none;\"/>\n  </g>\n  <g id=\"axes_1\">\n   <g id=\"patch_2\">\n    <path d=\"M 46.965625 552.730464 \nL 1162.965625 552.730464 \nL 1162.965625 9.130464 \nL 46.965625 9.130464 \nz\n\" style=\"fill:#ffffff;\"/>\n   </g>\n   <g id=\"matplotlib.axis_1\">\n    <g id=\"xtick_1\">\n     <g id=\"line2d_1\">\n      <defs>\n       <path d=\"M 0 0 \nL 0 3.5 \n\" id=\"m23592b2860\" style=\"stroke:#000000;stroke-width:0.8;\"/>\n      </defs>\n      <g>\n       <use style=\"stroke:#000000;stroke-width:0.8;\" x=\"133.416329\" xlink:href=\"#m23592b2860\" y=\"552.730464\"/>\n      </g>\n     </g>\n     <g id=\"text_1\">\n      <!-- 19.8 -->\n      <g transform=\"translate(122.283517 567.328901)scale(0.1 -0.1)\">\n       <defs>\n        <path d=\"M 794 531 \nL 1825 531 \nL 1825 4091 \nL 703 3866 \nL 703 4441 \nL 1819 4666 \nL 2450 4666 \nL 2450 531 \nL 3481 531 \nL 3481 0 \nL 794 0 \nL 794 531 \nz\n\" id=\"DejaVuSans-31\" transform=\"scale(0.015625)\"/>\n        <path d=\"M 703 97 \nL 703 672 \nQ 941 559 1184 500 \nQ 1428 441 1663 441 \nQ 2288 441 2617 861 \nQ 2947 1281 2994 2138 \nQ 2813 1869 2534 1725 \nQ 2256 1581 1919 1581 \nQ 1219 1581 811 2004 \nQ 403 2428 403 3163 \nQ 403 3881 828 4315 \nQ 1253 4750 1959 4750 \nQ 2769 4750 3195 4129 \nQ 3622 3509 3622 2328 \nQ 3622 1225 3098 567 \nQ 2575 -91 1691 -91 \nQ 1453 -91 1209 -44 \nQ 966 3 703 97 \nz\nM 1959 2075 \nQ 2384 2075 2632 2365 \nQ 2881 2656 2881 3163 \nQ 2881 3666 2632 3958 \nQ 2384 4250 1959 4250 \nQ 1534 4250 1286 3958 \nQ 1038 3666 1038 3163 \nQ 1038 2656 1286 2365 \nQ 1534 2075 1959 2075 \nz\n\" id=\"DejaVuSans-39\" transform=\"scale(0.015625)\"/>\n        <path d=\"M 684 794 \nL 1344 794 \nL 1344 0 \nL 684 0 \nL 684 794 \nz\n\" id=\"DejaVuSans-2e\" transform=\"scale(0.015625)\"/>\n        <path d=\"M 2034 2216 \nQ 1584 2216 1326 1975 \nQ 1069 1734 1069 1313 \nQ 1069 891 1326 650 \nQ 1584 409 2034 409 \nQ 2484 409 2743 651 \nQ 3003 894 3003 1313 \nQ 3003 1734 2745 1975 \nQ 2488 2216 2034 2216 \nz\nM 1403 2484 \nQ 997 2584 770 2862 \nQ 544 3141 544 3541 \nQ 544 4100 942 4425 \nQ 1341 4750 2034 4750 \nQ 2731 4750 3128 4425 \nQ 3525 4100 3525 3541 \nQ 3525 3141 3298 2862 \nQ 3072 2584 2669 2484 \nQ 3125 2378 3379 2068 \nQ 3634 1759 3634 1313 \nQ 3634 634 3220 271 \nQ 2806 -91 2034 -91 \nQ 1263 -91 848 271 \nQ 434 634 434 1313 \nQ 434 1759 690 2068 \nQ 947 2378 1403 2484 \nz\nM 1172 3481 \nQ 1172 3119 1398 2916 \nQ 1625 2713 2034 2713 \nQ 2441 2713 2670 2916 \nQ 2900 3119 2900 3481 \nQ 2900 3844 2670 4047 \nQ 2441 4250 2034 4250 \nQ 1625 4250 1398 4047 \nQ 1172 3844 1172 3481 \nz\n\" id=\"DejaVuSans-38\" transform=\"scale(0.015625)\"/>\n       </defs>\n       <use xlink:href=\"#DejaVuSans-31\"/>\n       <use x=\"63.623047\" xlink:href=\"#DejaVuSans-39\"/>\n       <use x=\"127.246094\" xlink:href=\"#DejaVuSans-2e\"/>\n       <use x=\"159.033203\" xlink:href=\"#DejaVuSans-38\"/>\n      </g>\n     </g>\n    </g>\n    <g id=\"xtick_2\">\n     <g id=\"line2d_2\">\n      <g>\n       <use style=\"stroke:#000000;stroke-width:0.8;\" x=\"276.310055\" xlink:href=\"#m23592b2860\" y=\"552.730464\"/>\n      </g>\n     </g>\n     <g id=\"text_2\">\n      <!-- 20.0 -->\n      <g transform=\"translate(265.177243 567.328901)scale(0.1 -0.1)\">\n       <defs>\n        <path d=\"M 1228 531 \nL 3431 531 \nL 3431 0 \nL 469 0 \nL 469 531 \nQ 828 903 1448 1529 \nQ 2069 2156 2228 2338 \nQ 2531 2678 2651 2914 \nQ 2772 3150 2772 3378 \nQ 2772 3750 2511 3984 \nQ 2250 4219 1831 4219 \nQ 1534 4219 1204 4116 \nQ 875 4013 500 3803 \nL 500 4441 \nQ 881 4594 1212 4672 \nQ 1544 4750 1819 4750 \nQ 2544 4750 2975 4387 \nQ 3406 4025 3406 3419 \nQ 3406 3131 3298 2873 \nQ 3191 2616 2906 2266 \nQ 2828 2175 2409 1742 \nQ 1991 1309 1228 531 \nz\n\" id=\"DejaVuSans-32\" transform=\"scale(0.015625)\"/>\n        <path d=\"M 2034 4250 \nQ 1547 4250 1301 3770 \nQ 1056 3291 1056 2328 \nQ 1056 1369 1301 889 \nQ 1547 409 2034 409 \nQ 2525 409 2770 889 \nQ 3016 1369 3016 2328 \nQ 3016 3291 2770 3770 \nQ 2525 4250 2034 4250 \nz\nM 2034 4750 \nQ 2819 4750 3233 4129 \nQ 3647 3509 3647 2328 \nQ 3647 1150 3233 529 \nQ 2819 -91 2034 -91 \nQ 1250 -91 836 529 \nQ 422 1150 422 2328 \nQ 422 3509 836 4129 \nQ 1250 4750 2034 4750 \nz\n\" id=\"DejaVuSans-30\" transform=\"scale(0.015625)\"/>\n       </defs>\n       <use xlink:href=\"#DejaVuSans-32\"/>\n       <use x=\"63.623047\" xlink:href=\"#DejaVuSans-30\"/>\n       <use x=\"127.246094\" xlink:href=\"#DejaVuSans-2e\"/>\n       <use x=\"159.033203\" xlink:href=\"#DejaVuSans-30\"/>\n      </g>\n     </g>\n    </g>\n    <g id=\"xtick_3\">\n     <g id=\"line2d_3\">\n      <g>\n       <use style=\"stroke:#000000;stroke-width:0.8;\" x=\"419.203781\" xlink:href=\"#m23592b2860\" y=\"552.730464\"/>\n      </g>\n     </g>\n     <g id=\"text_3\">\n      <!-- 20.2 -->\n      <g transform=\"translate(408.070969 567.328901)scale(0.1 -0.1)\">\n       <use xlink:href=\"#DejaVuSans-32\"/>\n       <use x=\"63.623047\" xlink:href=\"#DejaVuSans-30\"/>\n       <use x=\"127.246094\" xlink:href=\"#DejaVuSans-2e\"/>\n       <use x=\"159.033203\" xlink:href=\"#DejaVuSans-32\"/>\n      </g>\n     </g>\n    </g>\n    <g id=\"xtick_4\">\n     <g id=\"line2d_4\">\n      <g>\n       <use style=\"stroke:#000000;stroke-width:0.8;\" x=\"562.097507\" xlink:href=\"#m23592b2860\" y=\"552.730464\"/>\n      </g>\n     </g>\n     <g id=\"text_4\">\n      <!-- 20.4 -->\n      <g transform=\"translate(550.964695 567.328901)scale(0.1 -0.1)\">\n       <defs>\n        <path d=\"M 2419 4116 \nL 825 1625 \nL 2419 1625 \nL 2419 4116 \nz\nM 2253 4666 \nL 3047 4666 \nL 3047 1625 \nL 3713 1625 \nL 3713 1100 \nL 3047 1100 \nL 3047 0 \nL 2419 0 \nL 2419 1100 \nL 313 1100 \nL 313 1709 \nL 2253 4666 \nz\n\" id=\"DejaVuSans-34\" transform=\"scale(0.015625)\"/>\n       </defs>\n       <use xlink:href=\"#DejaVuSans-32\"/>\n       <use x=\"63.623047\" xlink:href=\"#DejaVuSans-30\"/>\n       <use x=\"127.246094\" xlink:href=\"#DejaVuSans-2e\"/>\n       <use x=\"159.033203\" xlink:href=\"#DejaVuSans-34\"/>\n      </g>\n     </g>\n    </g>\n    <g id=\"xtick_5\">\n     <g id=\"line2d_5\">\n      <g>\n       <use style=\"stroke:#000000;stroke-width:0.8;\" x=\"704.991233\" xlink:href=\"#m23592b2860\" y=\"552.730464\"/>\n      </g>\n     </g>\n     <g id=\"text_5\">\n      <!-- 20.6 -->\n      <g transform=\"translate(693.858421 567.328901)scale(0.1 -0.1)\">\n       <defs>\n        <path d=\"M 2113 2584 \nQ 1688 2584 1439 2293 \nQ 1191 2003 1191 1497 \nQ 1191 994 1439 701 \nQ 1688 409 2113 409 \nQ 2538 409 2786 701 \nQ 3034 994 3034 1497 \nQ 3034 2003 2786 2293 \nQ 2538 2584 2113 2584 \nz\nM 3366 4563 \nL 3366 3988 \nQ 3128 4100 2886 4159 \nQ 2644 4219 2406 4219 \nQ 1781 4219 1451 3797 \nQ 1122 3375 1075 2522 \nQ 1259 2794 1537 2939 \nQ 1816 3084 2150 3084 \nQ 2853 3084 3261 2657 \nQ 3669 2231 3669 1497 \nQ 3669 778 3244 343 \nQ 2819 -91 2113 -91 \nQ 1303 -91 875 529 \nQ 447 1150 447 2328 \nQ 447 3434 972 4092 \nQ 1497 4750 2381 4750 \nQ 2619 4750 2861 4703 \nQ 3103 4656 3366 4563 \nz\n\" id=\"DejaVuSans-36\" transform=\"scale(0.015625)\"/>\n       </defs>\n       <use xlink:href=\"#DejaVuSans-32\"/>\n       <use x=\"63.623047\" xlink:href=\"#DejaVuSans-30\"/>\n       <use x=\"127.246094\" xlink:href=\"#DejaVuSans-2e\"/>\n       <use x=\"159.033203\" xlink:href=\"#DejaVuSans-36\"/>\n      </g>\n     </g>\n    </g>\n    <g id=\"xtick_6\">\n     <g id=\"line2d_6\">\n      <g>\n       <use style=\"stroke:#000000;stroke-width:0.8;\" x=\"847.884959\" xlink:href=\"#m23592b2860\" y=\"552.730464\"/>\n      </g>\n     </g>\n     <g id=\"text_6\">\n      <!-- 20.8 -->\n      <g transform=\"translate(836.752147 567.328901)scale(0.1 -0.1)\">\n       <use xlink:href=\"#DejaVuSans-32\"/>\n       <use x=\"63.623047\" xlink:href=\"#DejaVuSans-30\"/>\n       <use x=\"127.246094\" xlink:href=\"#DejaVuSans-2e\"/>\n       <use x=\"159.033203\" xlink:href=\"#DejaVuSans-38\"/>\n      </g>\n     </g>\n    </g>\n    <g id=\"xtick_7\">\n     <g id=\"line2d_7\">\n      <g>\n       <use style=\"stroke:#000000;stroke-width:0.8;\" x=\"990.778685\" xlink:href=\"#m23592b2860\" y=\"552.730464\"/>\n      </g>\n     </g>\n     <g id=\"text_7\">\n      <!-- 21.0 -->\n      <g transform=\"translate(979.645873 567.328901)scale(0.1 -0.1)\">\n       <use xlink:href=\"#DejaVuSans-32\"/>\n       <use x=\"63.623047\" xlink:href=\"#DejaVuSans-31\"/>\n       <use x=\"127.246094\" xlink:href=\"#DejaVuSans-2e\"/>\n       <use x=\"159.033203\" xlink:href=\"#DejaVuSans-30\"/>\n      </g>\n     </g>\n    </g>\n    <g id=\"xtick_8\">\n     <g id=\"line2d_8\">\n      <g>\n       <use style=\"stroke:#000000;stroke-width:0.8;\" x=\"1133.672411\" xlink:href=\"#m23592b2860\" y=\"552.730464\"/>\n      </g>\n     </g>\n     <g id=\"text_8\">\n      <!-- 21.2 -->\n      <g transform=\"translate(1122.539599 567.328901)scale(0.1 -0.1)\">\n       <use xlink:href=\"#DejaVuSans-32\"/>\n       <use x=\"63.623047\" xlink:href=\"#DejaVuSans-31\"/>\n       <use x=\"127.246094\" xlink:href=\"#DejaVuSans-2e\"/>\n       <use x=\"159.033203\" xlink:href=\"#DejaVuSans-32\"/>\n      </g>\n     </g>\n    </g>\n    <g id=\"text_9\">\n     <!-- Weight -->\n     <g transform=\"translate(587.546875 581.007026)scale(0.1 -0.1)\">\n      <defs>\n       <path d=\"M 213 4666 \nL 850 4666 \nL 1831 722 \nL 2809 4666 \nL 3519 4666 \nL 4500 722 \nL 5478 4666 \nL 6119 4666 \nL 4947 0 \nL 4153 0 \nL 3169 4050 \nL 2175 0 \nL 1381 0 \nL 213 4666 \nz\n\" id=\"DejaVuSans-57\" transform=\"scale(0.015625)\"/>\n       <path d=\"M 3597 1894 \nL 3597 1613 \nL 953 1613 \nQ 991 1019 1311 708 \nQ 1631 397 2203 397 \nQ 2534 397 2845 478 \nQ 3156 559 3463 722 \nL 3463 178 \nQ 3153 47 2828 -22 \nQ 2503 -91 2169 -91 \nQ 1331 -91 842 396 \nQ 353 884 353 1716 \nQ 353 2575 817 3079 \nQ 1281 3584 2069 3584 \nQ 2775 3584 3186 3129 \nQ 3597 2675 3597 1894 \nz\nM 3022 2063 \nQ 3016 2534 2758 2815 \nQ 2500 3097 2075 3097 \nQ 1594 3097 1305 2825 \nQ 1016 2553 972 2059 \nL 3022 2063 \nz\n\" id=\"DejaVuSans-65\" transform=\"scale(0.015625)\"/>\n       <path d=\"M 603 3500 \nL 1178 3500 \nL 1178 0 \nL 603 0 \nL 603 3500 \nz\nM 603 4863 \nL 1178 4863 \nL 1178 4134 \nL 603 4134 \nL 603 4863 \nz\n\" id=\"DejaVuSans-69\" transform=\"scale(0.015625)\"/>\n       <path d=\"M 2906 1791 \nQ 2906 2416 2648 2759 \nQ 2391 3103 1925 3103 \nQ 1463 3103 1205 2759 \nQ 947 2416 947 1791 \nQ 947 1169 1205 825 \nQ 1463 481 1925 481 \nQ 2391 481 2648 825 \nQ 2906 1169 2906 1791 \nz\nM 3481 434 \nQ 3481 -459 3084 -895 \nQ 2688 -1331 1869 -1331 \nQ 1566 -1331 1297 -1286 \nQ 1028 -1241 775 -1147 \nL 775 -588 \nQ 1028 -725 1275 -790 \nQ 1522 -856 1778 -856 \nQ 2344 -856 2625 -561 \nQ 2906 -266 2906 331 \nL 2906 616 \nQ 2728 306 2450 153 \nQ 2172 0 1784 0 \nQ 1141 0 747 490 \nQ 353 981 353 1791 \nQ 353 2603 747 3093 \nQ 1141 3584 1784 3584 \nQ 2172 3584 2450 3431 \nQ 2728 3278 2906 2969 \nL 2906 3500 \nL 3481 3500 \nL 3481 434 \nz\n\" id=\"DejaVuSans-67\" transform=\"scale(0.015625)\"/>\n       <path d=\"M 3513 2113 \nL 3513 0 \nL 2938 0 \nL 2938 2094 \nQ 2938 2591 2744 2837 \nQ 2550 3084 2163 3084 \nQ 1697 3084 1428 2787 \nQ 1159 2491 1159 1978 \nL 1159 0 \nL 581 0 \nL 581 4863 \nL 1159 4863 \nL 1159 2956 \nQ 1366 3272 1645 3428 \nQ 1925 3584 2291 3584 \nQ 2894 3584 3203 3211 \nQ 3513 2838 3513 2113 \nz\n\" id=\"DejaVuSans-68\" transform=\"scale(0.015625)\"/>\n       <path d=\"M 1172 4494 \nL 1172 3500 \nL 2356 3500 \nL 2356 3053 \nL 1172 3053 \nL 1172 1153 \nQ 1172 725 1289 603 \nQ 1406 481 1766 481 \nL 2356 481 \nL 2356 0 \nL 1766 0 \nQ 1100 0 847 248 \nQ 594 497 594 1153 \nL 594 3053 \nL 172 3053 \nL 172 3500 \nL 594 3500 \nL 594 4494 \nL 1172 4494 \nz\n\" id=\"DejaVuSans-74\" transform=\"scale(0.015625)\"/>\n      </defs>\n      <use xlink:href=\"#DejaVuSans-57\"/>\n      <use x=\"93.001953\" xlink:href=\"#DejaVuSans-65\"/>\n      <use x=\"154.525391\" xlink:href=\"#DejaVuSans-69\"/>\n      <use x=\"182.308594\" xlink:href=\"#DejaVuSans-67\"/>\n      <use x=\"245.785156\" xlink:href=\"#DejaVuSans-68\"/>\n      <use x=\"309.164062\" xlink:href=\"#DejaVuSans-74\"/>\n     </g>\n    </g>\n   </g>\n   <g id=\"matplotlib.axis_2\">\n    <g id=\"ytick_1\">\n     <g id=\"line2d_9\">\n      <defs>\n       <path d=\"M 0 0 \nL -3.5 0 \n\" id=\"m4d63745fc4\" style=\"stroke:#000000;stroke-width:0.8;\"/>\n      </defs>\n      <g>\n       <use style=\"stroke:#000000;stroke-width:0.8;\" x=\"46.965625\" xlink:href=\"#m4d63745fc4\" y=\"530.097767\"/>\n      </g>\n     </g>\n     <g id=\"text_10\">\n      <!-- 0 -->\n      <g transform=\"translate(33.603125 533.896986)scale(0.1 -0.1)\">\n       <use xlink:href=\"#DejaVuSans-30\"/>\n      </g>\n     </g>\n    </g>\n    <g id=\"ytick_2\">\n     <g id=\"line2d_10\">\n      <g>\n       <use style=\"stroke:#000000;stroke-width:0.8;\" x=\"46.965625\" xlink:href=\"#m4d63745fc4\" y=\"426.278058\"/>\n      </g>\n     </g>\n     <g id=\"text_11\">\n      <!-- 50 -->\n      <g transform=\"translate(27.240625 430.077276)scale(0.1 -0.1)\">\n       <defs>\n        <path d=\"M 691 4666 \nL 3169 4666 \nL 3169 4134 \nL 1269 4134 \nL 1269 2991 \nQ 1406 3038 1543 3061 \nQ 1681 3084 1819 3084 \nQ 2600 3084 3056 2656 \nQ 3513 2228 3513 1497 \nQ 3513 744 3044 326 \nQ 2575 -91 1722 -91 \nQ 1428 -91 1123 -41 \nQ 819 9 494 109 \nL 494 744 \nQ 775 591 1075 516 \nQ 1375 441 1709 441 \nQ 2250 441 2565 725 \nQ 2881 1009 2881 1497 \nQ 2881 1984 2565 2268 \nQ 2250 2553 1709 2553 \nQ 1456 2553 1204 2497 \nQ 953 2441 691 2322 \nL 691 4666 \nz\n\" id=\"DejaVuSans-35\" transform=\"scale(0.015625)\"/>\n       </defs>\n       <use xlink:href=\"#DejaVuSans-35\"/>\n       <use x=\"63.623047\" xlink:href=\"#DejaVuSans-30\"/>\n      </g>\n     </g>\n    </g>\n    <g id=\"ytick_3\">\n     <g id=\"line2d_11\">\n      <g>\n       <use style=\"stroke:#000000;stroke-width:0.8;\" x=\"46.965625\" xlink:href=\"#m4d63745fc4\" y=\"322.458348\"/>\n      </g>\n     </g>\n     <g id=\"text_12\">\n      <!-- 100 -->\n      <g transform=\"translate(20.878125 326.257567)scale(0.1 -0.1)\">\n       <use xlink:href=\"#DejaVuSans-31\"/>\n       <use x=\"63.623047\" xlink:href=\"#DejaVuSans-30\"/>\n       <use x=\"127.246094\" xlink:href=\"#DejaVuSans-30\"/>\n      </g>\n     </g>\n    </g>\n    <g id=\"ytick_4\">\n     <g id=\"line2d_12\">\n      <g>\n       <use style=\"stroke:#000000;stroke-width:0.8;\" x=\"46.965625\" xlink:href=\"#m4d63745fc4\" y=\"218.638638\"/>\n      </g>\n     </g>\n     <g id=\"text_13\">\n      <!-- 150 -->\n      <g transform=\"translate(20.878125 222.437857)scale(0.1 -0.1)\">\n       <use xlink:href=\"#DejaVuSans-31\"/>\n       <use x=\"63.623047\" xlink:href=\"#DejaVuSans-35\"/>\n       <use x=\"127.246094\" xlink:href=\"#DejaVuSans-30\"/>\n      </g>\n     </g>\n    </g>\n    <g id=\"ytick_5\">\n     <g id=\"line2d_13\">\n      <g>\n       <use style=\"stroke:#000000;stroke-width:0.8;\" x=\"46.965625\" xlink:href=\"#m4d63745fc4\" y=\"114.818928\"/>\n      </g>\n     </g>\n     <g id=\"text_14\">\n      <!-- 200 -->\n      <g transform=\"translate(20.878125 118.618147)scale(0.1 -0.1)\">\n       <use xlink:href=\"#DejaVuSans-32\"/>\n       <use x=\"63.623047\" xlink:href=\"#DejaVuSans-30\"/>\n       <use x=\"127.246094\" xlink:href=\"#DejaVuSans-30\"/>\n      </g>\n     </g>\n    </g>\n    <g id=\"ytick_6\">\n     <g id=\"line2d_14\">\n      <g>\n       <use style=\"stroke:#000000;stroke-width:0.8;\" x=\"46.965625\" xlink:href=\"#m4d63745fc4\" y=\"10.999219\"/>\n      </g>\n     </g>\n     <g id=\"text_15\">\n      <!-- 250 -->\n      <g transform=\"translate(20.878125 14.798437)scale(0.1 -0.1)\">\n       <use xlink:href=\"#DejaVuSans-32\"/>\n       <use x=\"63.623047\" xlink:href=\"#DejaVuSans-35\"/>\n       <use x=\"127.246094\" xlink:href=\"#DejaVuSans-30\"/>\n      </g>\n     </g>\n    </g>\n    <g id=\"text_16\">\n     <!-- Frequency -->\n     <g transform=\"translate(14.798438 306.760151)rotate(-90)scale(0.1 -0.1)\">\n      <defs>\n       <path d=\"M 628 4666 \nL 3309 4666 \nL 3309 4134 \nL 1259 4134 \nL 1259 2759 \nL 3109 2759 \nL 3109 2228 \nL 1259 2228 \nL 1259 0 \nL 628 0 \nL 628 4666 \nz\n\" id=\"DejaVuSans-46\" transform=\"scale(0.015625)\"/>\n       <path d=\"M 2631 2963 \nQ 2534 3019 2420 3045 \nQ 2306 3072 2169 3072 \nQ 1681 3072 1420 2755 \nQ 1159 2438 1159 1844 \nL 1159 0 \nL 581 0 \nL 581 3500 \nL 1159 3500 \nL 1159 2956 \nQ 1341 3275 1631 3429 \nQ 1922 3584 2338 3584 \nQ 2397 3584 2469 3576 \nQ 2541 3569 2628 3553 \nL 2631 2963 \nz\n\" id=\"DejaVuSans-72\" transform=\"scale(0.015625)\"/>\n       <path d=\"M 947 1747 \nQ 947 1113 1208 752 \nQ 1469 391 1925 391 \nQ 2381 391 2643 752 \nQ 2906 1113 2906 1747 \nQ 2906 2381 2643 2742 \nQ 2381 3103 1925 3103 \nQ 1469 3103 1208 2742 \nQ 947 2381 947 1747 \nz\nM 2906 525 \nQ 2725 213 2448 61 \nQ 2172 -91 1784 -91 \nQ 1150 -91 751 415 \nQ 353 922 353 1747 \nQ 353 2572 751 3078 \nQ 1150 3584 1784 3584 \nQ 2172 3584 2448 3432 \nQ 2725 3281 2906 2969 \nL 2906 3500 \nL 3481 3500 \nL 3481 -1331 \nL 2906 -1331 \nL 2906 525 \nz\n\" id=\"DejaVuSans-71\" transform=\"scale(0.015625)\"/>\n       <path d=\"M 544 1381 \nL 544 3500 \nL 1119 3500 \nL 1119 1403 \nQ 1119 906 1312 657 \nQ 1506 409 1894 409 \nQ 2359 409 2629 706 \nQ 2900 1003 2900 1516 \nL 2900 3500 \nL 3475 3500 \nL 3475 0 \nL 2900 0 \nL 2900 538 \nQ 2691 219 2414 64 \nQ 2138 -91 1772 -91 \nQ 1169 -91 856 284 \nQ 544 659 544 1381 \nz\nM 1991 3584 \nL 1991 3584 \nz\n\" id=\"DejaVuSans-75\" transform=\"scale(0.015625)\"/>\n       <path d=\"M 3513 2113 \nL 3513 0 \nL 2938 0 \nL 2938 2094 \nQ 2938 2591 2744 2837 \nQ 2550 3084 2163 3084 \nQ 1697 3084 1428 2787 \nQ 1159 2491 1159 1978 \nL 1159 0 \nL 581 0 \nL 581 3500 \nL 1159 3500 \nL 1159 2956 \nQ 1366 3272 1645 3428 \nQ 1925 3584 2291 3584 \nQ 2894 3584 3203 3211 \nQ 3513 2838 3513 2113 \nz\n\" id=\"DejaVuSans-6e\" transform=\"scale(0.015625)\"/>\n       <path d=\"M 3122 3366 \nL 3122 2828 \nQ 2878 2963 2633 3030 \nQ 2388 3097 2138 3097 \nQ 1578 3097 1268 2742 \nQ 959 2388 959 1747 \nQ 959 1106 1268 751 \nQ 1578 397 2138 397 \nQ 2388 397 2633 464 \nQ 2878 531 3122 666 \nL 3122 134 \nQ 2881 22 2623 -34 \nQ 2366 -91 2075 -91 \nQ 1284 -91 818 406 \nQ 353 903 353 1747 \nQ 353 2603 823 3093 \nQ 1294 3584 2113 3584 \nQ 2378 3584 2631 3529 \nQ 2884 3475 3122 3366 \nz\n\" id=\"DejaVuSans-63\" transform=\"scale(0.015625)\"/>\n       <path d=\"M 2059 -325 \nQ 1816 -950 1584 -1140 \nQ 1353 -1331 966 -1331 \nL 506 -1331 \nL 506 -850 \nL 844 -850 \nQ 1081 -850 1212 -737 \nQ 1344 -625 1503 -206 \nL 1606 56 \nL 191 3500 \nL 800 3500 \nL 1894 763 \nL 2988 3500 \nL 3597 3500 \nL 2059 -325 \nz\n\" id=\"DejaVuSans-79\" transform=\"scale(0.015625)\"/>\n      </defs>\n      <use xlink:href=\"#DejaVuSans-46\"/>\n      <use x=\"50.269531\" xlink:href=\"#DejaVuSans-72\"/>\n      <use x=\"89.132812\" xlink:href=\"#DejaVuSans-65\"/>\n      <use x=\"150.65625\" xlink:href=\"#DejaVuSans-71\"/>\n      <use x=\"214.132812\" xlink:href=\"#DejaVuSans-75\"/>\n      <use x=\"277.511719\" xlink:href=\"#DejaVuSans-65\"/>\n      <use x=\"339.035156\" xlink:href=\"#DejaVuSans-6e\"/>\n      <use x=\"402.414062\" xlink:href=\"#DejaVuSans-63\"/>\n      <use x=\"457.394531\" xlink:href=\"#DejaVuSans-79\"/>\n     </g>\n    </g>\n   </g>\n   <g id=\"line2d_15\">\n    <defs>\n     <path d=\"M 0 5 \nC 1.326016 5 2.597899 4.473168 3.535534 3.535534 \nC 4.473168 2.597899 5 1.326016 5 0 \nC 5 -1.326016 4.473168 -2.597899 3.535534 -3.535534 \nC 2.597899 -4.473168 1.326016 -5 0 -5 \nC -1.326016 -5 -2.597899 -4.473168 -3.535534 -3.535534 \nC -4.473168 -2.597899 -5 -1.326016 -5 0 \nC -5 1.326016 -4.473168 2.597899 -3.535534 3.535534 \nC -2.597899 4.473168 -1.326016 5 0 5 \nz\n\" id=\"me72b816100\" style=\"stroke:#008000;\"/>\n    </defs>\n    <g clip-path=\"url(#p923b17c358)\">\n     <use style=\"fill:#008000;stroke:#008000;\" x=\"597.820939\" xlink:href=\"#me72b816100\" y=\"33.839555\"/>\n     <use style=\"fill:#008000;stroke:#008000;\" x=\"583.531566\" xlink:href=\"#me72b816100\" y=\"52.527103\"/>\n     <use style=\"fill:#008000;stroke:#008000;\" x=\"619.254998\" xlink:href=\"#me72b816100\" y=\"56.679891\"/>\n     <use style=\"fill:#008000;stroke:#008000;\" x=\"633.54437\" xlink:href=\"#me72b816100\" y=\"60.832679\"/>\n     <use style=\"fill:#008000;stroke:#008000;\" x=\"669.267802\" xlink:href=\"#me72b816100\" y=\"62.909074\"/>\n     <use style=\"fill:#008000;stroke:#008000;\" x=\"683.557174\" xlink:href=\"#me72b816100\" y=\"79.520227\"/>\n     <use style=\"fill:#008000;stroke:#008000;\" x=\"604.965625\" xlink:href=\"#me72b816100\" y=\"87.825804\"/>\n     <use style=\"fill:#008000;stroke:#008000;\" x=\"569.242194\" xlink:href=\"#me72b816100\" y=\"91.978592\"/>\n     <use style=\"fill:#008000;stroke:#008000;\" x=\"554.952821\" xlink:href=\"#me72b816100\" y=\"123.124505\"/>\n     <use style=\"fill:#008000;stroke:#008000;\" x=\"647.833743\" xlink:href=\"#me72b816100\" y=\"129.353688\"/>\n     <use style=\"fill:#008000;stroke:#008000;\" x=\"712.135919\" xlink:href=\"#me72b816100\" y=\"137.659265\"/>\n     <use style=\"fill:#008000;stroke:#008000;\" x=\"640.689056\" xlink:href=\"#me72b816100\" y=\"141.812053\"/>\n     <use style=\"fill:#008000;stroke:#008000;\" x=\"697.846547\" xlink:href=\"#me72b816100\" y=\"143.888447\"/>\n     <use style=\"fill:#008000;stroke:#008000;\" x=\"719.280606\" xlink:href=\"#me72b816100\" y=\"150.11763\"/>\n     <use style=\"fill:#008000;stroke:#008000;\" x=\"533.518762\" xlink:href=\"#me72b816100\" y=\"152.194024\"/>\n     <use style=\"fill:#008000;stroke:#008000;\" x=\"733.569978\" xlink:href=\"#me72b816100\" y=\"152.194024\"/>\n     <use style=\"fill:#008000;stroke:#008000;\" x=\"747.859351\" xlink:href=\"#me72b816100\" y=\"164.652389\"/>\n     <use style=\"fill:#008000;stroke:#008000;\" x=\"662.123115\" xlink:href=\"#me72b816100\" y=\"164.652389\"/>\n     <use style=\"fill:#008000;stroke:#008000;\" x=\"590.676252\" xlink:href=\"#me72b816100\" y=\"172.957966\"/>\n     <use style=\"fill:#008000;stroke:#008000;\" x=\"676.412488\" xlink:href=\"#me72b816100\" y=\"179.187148\"/>\n     <use style=\"fill:#008000;stroke:#008000;\" x=\"690.701861\" xlink:href=\"#me72b816100\" y=\"187.492725\"/>\n     <use style=\"fill:#008000;stroke:#008000;\" x=\"762.148724\" xlink:href=\"#me72b816100\" y=\"197.874696\"/>\n     <use style=\"fill:#008000;stroke:#008000;\" x=\"626.399684\" xlink:href=\"#me72b816100\" y=\"197.874696\"/>\n     <use style=\"fill:#008000;stroke:#008000;\" x=\"612.110311\" xlink:href=\"#me72b816100\" y=\"197.874696\"/>\n     <use style=\"fill:#008000;stroke:#008000;\" x=\"726.425292\" xlink:href=\"#me72b816100\" y=\"202.027485\"/>\n     <use style=\"fill:#008000;stroke:#008000;\" x=\"576.38688\" xlink:href=\"#me72b816100\" y=\"202.027485\"/>\n     <use style=\"fill:#008000;stroke:#008000;\" x=\"654.978429\" xlink:href=\"#me72b816100\" y=\"204.103879\"/>\n     <use style=\"fill:#008000;stroke:#008000;\" x=\"519.229389\" xlink:href=\"#me72b816100\" y=\"206.180273\"/>\n     <use style=\"fill:#008000;stroke:#008000;\" x=\"704.991233\" xlink:href=\"#me72b816100\" y=\"208.256667\"/>\n     <use style=\"fill:#008000;stroke:#008000;\" x=\"540.663448\" xlink:href=\"#me72b816100\" y=\"216.562244\"/>\n     <use style=\"fill:#008000;stroke:#008000;\" x=\"547.808135\" xlink:href=\"#me72b816100\" y=\"218.638638\"/>\n     <use style=\"fill:#008000;stroke:#008000;\" x=\"490.650644\" xlink:href=\"#me72b816100\" y=\"222.791427\"/>\n     <use style=\"fill:#008000;stroke:#008000;\" x=\"776.438096\" xlink:href=\"#me72b816100\" y=\"226.944215\"/>\n     <use style=\"fill:#008000;stroke:#008000;\" x=\"562.097507\" xlink:href=\"#me72b816100\" y=\"256.013734\"/>\n     <use style=\"fill:#008000;stroke:#008000;\" x=\"740.714665\" xlink:href=\"#me72b816100\" y=\"258.090128\"/>\n     <use style=\"fill:#008000;stroke:#008000;\" x=\"755.004037\" xlink:href=\"#me72b816100\" y=\"258.090128\"/>\n     <use style=\"fill:#008000;stroke:#008000;\" x=\"504.940017\" xlink:href=\"#me72b816100\" y=\"260.166522\"/>\n     <use style=\"fill:#008000;stroke:#008000;\" x=\"497.795331\" xlink:href=\"#me72b816100\" y=\"274.701281\"/>\n     <use style=\"fill:#008000;stroke:#008000;\" x=\"526.374076\" xlink:href=\"#me72b816100\" y=\"287.159647\"/>\n     <use style=\"fill:#008000;stroke:#008000;\" x=\"512.084703\" xlink:href=\"#me72b816100\" y=\"293.388829\"/>\n     <use style=\"fill:#008000;stroke:#008000;\" x=\"783.582782\" xlink:href=\"#me72b816100\" y=\"297.541618\"/>\n     <use style=\"fill:#008000;stroke:#008000;\" x=\"483.505958\" xlink:href=\"#me72b816100\" y=\"299.618012\"/>\n     <use style=\"fill:#008000;stroke:#008000;\" x=\"469.216585\" xlink:href=\"#me72b816100\" y=\"303.7708\"/>\n     <use style=\"fill:#008000;stroke:#008000;\" x=\"769.29341\" xlink:href=\"#me72b816100\" y=\"314.152771\"/>\n     <use style=\"fill:#008000;stroke:#008000;\" x=\"454.927213\" xlink:href=\"#me72b816100\" y=\"318.305559\"/>\n     <use style=\"fill:#008000;stroke:#008000;\" x=\"797.872155\" xlink:href=\"#me72b816100\" y=\"324.534742\"/>\n     <use style=\"fill:#008000;stroke:#008000;\" x=\"476.361272\" xlink:href=\"#me72b816100\" y=\"324.534742\"/>\n     <use style=\"fill:#008000;stroke:#008000;\" x=\"826.4509\" xlink:href=\"#me72b816100\" y=\"324.534742\"/>\n     <use style=\"fill:#008000;stroke:#008000;\" x=\"790.727469\" xlink:href=\"#me72b816100\" y=\"330.763925\"/>\n     <use style=\"fill:#008000;stroke:#008000;\" x=\"812.161528\" xlink:href=\"#me72b816100\" y=\"341.145896\"/>\n     <use style=\"fill:#008000;stroke:#008000;\" x=\"805.016841\" xlink:href=\"#me72b816100\" y=\"353.604261\"/>\n     <use style=\"fill:#008000;stroke:#008000;\" x=\"462.071899\" xlink:href=\"#me72b816100\" y=\"357.757049\"/>\n     <use style=\"fill:#008000;stroke:#008000;\" x=\"447.782526\" xlink:href=\"#me72b816100\" y=\"361.909838\"/>\n     <use style=\"fill:#008000;stroke:#008000;\" x=\"819.306214\" xlink:href=\"#me72b816100\" y=\"366.062626\"/>\n     <use style=\"fill:#008000;stroke:#008000;\" x=\"433.493154\" xlink:href=\"#me72b816100\" y=\"368.13902\"/>\n     <use style=\"fill:#008000;stroke:#008000;\" x=\"426.348468\" xlink:href=\"#me72b816100\" y=\"372.291809\"/>\n     <use style=\"fill:#008000;stroke:#008000;\" x=\"847.884959\" xlink:href=\"#me72b816100\" y=\"380.597385\"/>\n     <use style=\"fill:#008000;stroke:#008000;\" x=\"419.203781\" xlink:href=\"#me72b816100\" y=\"382.673779\"/>\n     <use style=\"fill:#008000;stroke:#008000;\" x=\"862.174332\" xlink:href=\"#me72b816100\" y=\"388.902962\"/>\n     <use style=\"fill:#008000;stroke:#008000;\" x=\"440.63784\" xlink:href=\"#me72b816100\" y=\"388.902962\"/>\n     <use style=\"fill:#008000;stroke:#008000;\" x=\"840.740273\" xlink:href=\"#me72b816100\" y=\"390.979356\"/>\n     <use style=\"fill:#008000;stroke:#008000;\" x=\"412.059095\" xlink:href=\"#me72b816100\" y=\"399.284933\"/>\n     <use style=\"fill:#008000;stroke:#008000;\" x=\"833.595587\" xlink:href=\"#me72b816100\" y=\"399.284933\"/>\n     <use style=\"fill:#008000;stroke:#008000;\" x=\"390.625036\" xlink:href=\"#me72b816100\" y=\"399.284933\"/>\n     <use style=\"fill:#008000;stroke:#008000;\" x=\"404.914409\" xlink:href=\"#me72b816100\" y=\"405.514116\"/>\n     <use style=\"fill:#008000;stroke:#008000;\" x=\"397.769722\" xlink:href=\"#me72b816100\" y=\"417.972481\"/>\n     <use style=\"fill:#008000;stroke:#008000;\" x=\"869.319018\" xlink:href=\"#me72b816100\" y=\"426.278058\"/>\n     <use style=\"fill:#008000;stroke:#008000;\" x=\"876.463704\" xlink:href=\"#me72b816100\" y=\"428.354452\"/>\n     <use style=\"fill:#008000;stroke:#008000;\" x=\"855.029645\" xlink:href=\"#me72b816100\" y=\"438.736423\"/>\n     <use style=\"fill:#008000;stroke:#008000;\" x=\"376.335663\" xlink:href=\"#me72b816100\" y=\"440.812817\"/>\n     <use style=\"fill:#008000;stroke:#008000;\" x=\"383.48035\" xlink:href=\"#me72b816100\" y=\"442.889211\"/>\n     <use style=\"fill:#008000;stroke:#008000;\" x=\"369.190977\" xlink:href=\"#me72b816100\" y=\"444.965605\"/>\n     <use style=\"fill:#008000;stroke:#008000;\" x=\"897.897763\" xlink:href=\"#me72b816100\" y=\"449.118394\"/>\n     <use style=\"fill:#008000;stroke:#008000;\" x=\"354.901605\" xlink:href=\"#me72b816100\" y=\"451.194788\"/>\n     <use style=\"fill:#008000;stroke:#008000;\" x=\"890.753077\" xlink:href=\"#me72b816100\" y=\"451.194788\"/>\n     <use style=\"fill:#008000;stroke:#008000;\" x=\"883.608391\" xlink:href=\"#me72b816100\" y=\"453.271182\"/>\n     <use style=\"fill:#008000;stroke:#008000;\" x=\"905.04245\" xlink:href=\"#me72b816100\" y=\"461.576759\"/>\n     <use style=\"fill:#008000;stroke:#008000;\" x=\"912.187136\" xlink:href=\"#me72b816100\" y=\"463.653153\"/>\n     <use style=\"fill:#008000;stroke:#008000;\" x=\"362.046291\" xlink:href=\"#me72b816100\" y=\"469.882336\"/>\n     <use style=\"fill:#008000;stroke:#008000;\" x=\"340.612232\" xlink:href=\"#me72b816100\" y=\"469.882336\"/>\n     <use style=\"fill:#008000;stroke:#008000;\" x=\"926.476508\" xlink:href=\"#me72b816100\" y=\"474.035124\"/>\n     <use style=\"fill:#008000;stroke:#008000;\" x=\"347.756918\" xlink:href=\"#me72b816100\" y=\"484.417095\"/>\n     <use style=\"fill:#008000;stroke:#008000;\" x=\"326.322859\" xlink:href=\"#me72b816100\" y=\"486.493489\"/>\n     <use style=\"fill:#008000;stroke:#008000;\" x=\"962.19994\" xlink:href=\"#me72b816100\" y=\"490.646278\"/>\n     <use style=\"fill:#008000;stroke:#008000;\" x=\"312.033487\" xlink:href=\"#me72b816100\" y=\"490.646278\"/>\n     <use style=\"fill:#008000;stroke:#008000;\" x=\"333.467546\" xlink:href=\"#me72b816100\" y=\"490.646278\"/>\n     <use style=\"fill:#008000;stroke:#008000;\" x=\"940.765881\" xlink:href=\"#me72b816100\" y=\"496.87546\"/>\n     <use style=\"fill:#008000;stroke:#008000;\" x=\"969.344626\" xlink:href=\"#me72b816100\" y=\"498.951854\"/>\n     <use style=\"fill:#008000;stroke:#008000;\" x=\"319.178173\" xlink:href=\"#me72b816100\" y=\"501.028249\"/>\n     <use style=\"fill:#008000;stroke:#008000;\" x=\"947.910567\" xlink:href=\"#me72b816100\" y=\"501.028249\"/>\n     <use style=\"fill:#008000;stroke:#008000;\" x=\"933.621195\" xlink:href=\"#me72b816100\" y=\"503.104643\"/>\n     <use style=\"fill:#008000;stroke:#008000;\" x=\"1005.068058\" xlink:href=\"#me72b816100\" y=\"503.104643\"/>\n     <use style=\"fill:#008000;stroke:#008000;\" x=\"955.055254\" xlink:href=\"#me72b816100\" y=\"505.181037\"/>\n     <use style=\"fill:#008000;stroke:#008000;\" x=\"304.8888\" xlink:href=\"#me72b816100\" y=\"505.181037\"/>\n     <use style=\"fill:#008000;stroke:#008000;\" x=\"276.310055\" xlink:href=\"#me72b816100\" y=\"505.181037\"/>\n     <use style=\"fill:#008000;stroke:#008000;\" x=\"290.599428\" xlink:href=\"#me72b816100\" y=\"507.257431\"/>\n     <use style=\"fill:#008000;stroke:#008000;\" x=\"976.489313\" xlink:href=\"#me72b816100\" y=\"509.333825\"/>\n     <use style=\"fill:#008000;stroke:#008000;\" x=\"990.778685\" xlink:href=\"#me72b816100\" y=\"509.333825\"/>\n     <use style=\"fill:#008000;stroke:#008000;\" x=\"1019.35743\" xlink:href=\"#me72b816100\" y=\"509.333825\"/>\n     <use style=\"fill:#008000;stroke:#008000;\" x=\"240.586624\" xlink:href=\"#me72b816100\" y=\"511.41022\"/>\n     <use style=\"fill:#008000;stroke:#008000;\" x=\"297.744114\" xlink:href=\"#me72b816100\" y=\"511.41022\"/>\n     <use style=\"fill:#008000;stroke:#008000;\" x=\"983.633999\" xlink:href=\"#me72b816100\" y=\"511.41022\"/>\n     <use style=\"fill:#008000;stroke:#008000;\" x=\"1012.212744\" xlink:href=\"#me72b816100\" y=\"513.486614\"/>\n     <use style=\"fill:#008000;stroke:#008000;\" x=\"919.331822\" xlink:href=\"#me72b816100\" y=\"513.486614\"/>\n     <use style=\"fill:#008000;stroke:#008000;\" x=\"269.165369\" xlink:href=\"#me72b816100\" y=\"513.486614\"/>\n     <use style=\"fill:#008000;stroke:#008000;\" x=\"283.454742\" xlink:href=\"#me72b816100\" y=\"515.563008\"/>\n     <use style=\"fill:#008000;stroke:#008000;\" x=\"997.923371\" xlink:href=\"#me72b816100\" y=\"517.639402\"/>\n     <use style=\"fill:#008000;stroke:#008000;\" x=\"233.441937\" xlink:href=\"#me72b816100\" y=\"519.715796\"/>\n     <use style=\"fill:#008000;stroke:#008000;\" x=\"1097.94898\" xlink:href=\"#me72b816100\" y=\"519.715796\"/>\n     <use style=\"fill:#008000;stroke:#008000;\" x=\"262.020683\" xlink:href=\"#me72b816100\" y=\"519.715796\"/>\n     <use style=\"fill:#008000;stroke:#008000;\" x=\"254.875996\" xlink:href=\"#me72b816100\" y=\"519.715796\"/>\n     <use style=\"fill:#008000;stroke:#008000;\" x=\"1047.936176\" xlink:href=\"#me72b816100\" y=\"519.715796\"/>\n     <use style=\"fill:#008000;stroke:#008000;\" x=\"1069.370234\" xlink:href=\"#me72b816100\" y=\"521.79219\"/>\n     <use style=\"fill:#008000;stroke:#008000;\" x=\"1033.646803\" xlink:href=\"#me72b816100\" y=\"521.79219\"/>\n     <use style=\"fill:#008000;stroke:#008000;\" x=\"147.705702\" xlink:href=\"#me72b816100\" y=\"523.868585\"/>\n     <use style=\"fill:#008000;stroke:#008000;\" x=\"1026.502117\" xlink:href=\"#me72b816100\" y=\"523.868585\"/>\n     <use style=\"fill:#008000;stroke:#008000;\" x=\"1105.093666\" xlink:href=\"#me72b816100\" y=\"523.868585\"/>\n     <use style=\"fill:#008000;stroke:#008000;\" x=\"1112.238352\" xlink:href=\"#me72b816100\" y=\"525.944979\"/>\n     <use style=\"fill:#008000;stroke:#008000;\" x=\"97.692898\" xlink:href=\"#me72b816100\" y=\"525.944979\"/>\n     <use style=\"fill:#008000;stroke:#008000;\" x=\"176.284447\" xlink:href=\"#me72b816100\" y=\"525.944979\"/>\n     <use style=\"fill:#008000;stroke:#008000;\" x=\"226.297251\" xlink:href=\"#me72b816100\" y=\"525.944979\"/>\n     <use style=\"fill:#008000;stroke:#008000;\" x=\"1055.080862\" xlink:href=\"#me72b816100\" y=\"525.944979\"/>\n     <use style=\"fill:#008000;stroke:#008000;\" x=\"247.73131\" xlink:href=\"#me72b816100\" y=\"525.944979\"/>\n     <use style=\"fill:#008000;stroke:#008000;\" x=\"1040.791489\" xlink:href=\"#me72b816100\" y=\"525.944979\"/>\n     <use style=\"fill:#008000;stroke:#008000;\" x=\"212.007879\" xlink:href=\"#me72b816100\" y=\"525.944979\"/>\n     <use style=\"fill:#008000;stroke:#008000;\" x=\"204.863192\" xlink:href=\"#me72b816100\" y=\"528.021373\"/>\n     <use style=\"fill:#008000;stroke:#008000;\" x=\"183.429133\" xlink:href=\"#me72b816100\" y=\"528.021373\"/>\n     <use style=\"fill:#008000;stroke:#008000;\" x=\"161.995074\" xlink:href=\"#me72b816100\" y=\"528.021373\"/>\n     <use style=\"fill:#008000;stroke:#008000;\" x=\"1076.514921\" xlink:href=\"#me72b816100\" y=\"528.021373\"/>\n     <use style=\"fill:#008000;stroke:#008000;\" x=\"190.57382\" xlink:href=\"#me72b816100\" y=\"528.021373\"/>\n     <use style=\"fill:#008000;stroke:#008000;\" x=\"1062.225548\" xlink:href=\"#me72b816100\" y=\"528.021373\"/>\n     <use style=\"fill:#008000;stroke:#008000;\" x=\"197.718506\" xlink:href=\"#me72b816100\" y=\"528.021373\"/>\n     <use style=\"fill:#008000;stroke:#008000;\" x=\"111.98227\" xlink:href=\"#me72b816100\" y=\"528.021373\"/>\n     <use style=\"fill:#008000;stroke:#008000;\" x=\"154.850388\" xlink:href=\"#me72b816100\" y=\"528.021373\"/>\n     <use style=\"fill:#008000;stroke:#008000;\" x=\"219.152565\" xlink:href=\"#me72b816100\" y=\"528.021373\"/>\n    </g>\n   </g>\n   <g id=\"patch_3\">\n    <path d=\"M 46.965625 552.730464 \nL 46.965625 9.130464 \n\" style=\"fill:none;stroke:#000000;stroke-linecap:square;stroke-linejoin:miter;stroke-width:0.8;\"/>\n   </g>\n   <g id=\"patch_4\">\n    <path d=\"M 1162.965625 552.730464 \nL 1162.965625 9.130464 \n\" style=\"fill:none;stroke:#000000;stroke-linecap:square;stroke-linejoin:miter;stroke-width:0.8;\"/>\n   </g>\n   <g id=\"patch_5\">\n    <path d=\"M 46.965625 552.730464 \nL 1162.965625 552.730464 \n\" style=\"fill:none;stroke:#000000;stroke-linecap:square;stroke-linejoin:miter;stroke-width:0.8;\"/>\n   </g>\n   <g id=\"patch_6\">\n    <path d=\"M 46.965625 9.130464 \nL 1162.965625 9.130464 \n\" style=\"fill:none;stroke:#000000;stroke-linecap:square;stroke-linejoin:miter;stroke-width:0.8;\"/>\n   </g>\n  </g>\n </g>\n <defs>\n  <clipPath id=\"p923b17c358\">\n   <rect height=\"543.6\" width=\"1116\" x=\"46.965625\" y=\"9.130464\"/>\n  </clipPath>\n </defs>\n</svg>\n",
      "image/png": "[encoded data removed]"
     },
     "metadata": {
      "needs_background": "light"
     }
    }
   ],
   "metadata": {
    "collapsed": true
   }
  },
  {
   "cell_type": "markdown",
   "source": [
    "The frequency plot of the values resembles the one of a Gaussian distribution, centered around the value of 20.5 . In Chapter 4 you will learn how this shape is caused by both systematic and random error in the production and/or measurement systems."
   ],
   "metadata": {}
  },
  {
   "cell_type": "markdown",
   "source": [
    "b) Experiment with plotting the data with different dimensions, markers, markersizes, and colors. Use the links below for the values. You can also use the example above to try different figure dimensions.\n",
    "\n",
    "markers http://matplotlib.org/api/markers_api.html\n",
    "\n",
    "colors http://matplotlib.org/api/colors_api.html"
   ],
   "metadata": {
    "collapsed": true
   }
  },
  {
   "cell_type": "markdown",
   "source": [
    "<font size='0.5'>&copy; 2017 Cisco and/or its affiliates. All rights reserved. This document is Cisco Public.<font>"
   ],
   "metadata": {
    "collapsed": true
   }
  }
 ],
 "metadata": {
  "anaconda-cloud": {},
  "kernelspec": {
   "name": "python3",
   "display_name": "Python 3.8.10 64-bit"
  },
  "language_info": {
   "codemirror_mode": {
    "name": "ipython",
    "version": 3
   },
   "file_extension": ".py",
   "mimetype": "text/x-python",
   "name": "python",
   "nbconvert_exporter": "python",
   "pygments_lexer": "ipython3",
   "version": "3.8.10"
  },
  "interpreter": {
   "hash": "916dbcbb3f70747c44a77c7bcd40155683ae19c65e1c03b4aa3499c5328201f1"
  }
 },
 "nbformat": 4,
 "nbformat_minor": 1
}